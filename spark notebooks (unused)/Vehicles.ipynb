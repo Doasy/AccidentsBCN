{
 "cells": [
  {
   "cell_type": "markdown",
   "metadata": {
    "colab_type": "text",
    "id": "O_Uxs0k7nqVv"
   },
   "source": [
    "# The spark version is 2.4.3 but if the link fails go to and see which is the spark version available\n"
   ]
  },
  {
   "cell_type": "code",
   "execution_count": 0,
   "metadata": {
    "colab": {},
    "colab_type": "code",
    "id": "ZQ2BiwrlvJuP"
   },
   "outputs": [],
   "source": [
    "!apt-get install openjdk-8-jdk-headless -qq > /dev/null\n",
    "!wget -q https://www-us.apache.org/dist/spark/spark-2.4.3/spark-2.4.3-bin-hadoop2.7.tgz\n",
    "!tar xf spark-2.4.3-bin-hadoop2.7.tgz\n",
    "!pip install -q findspark"
   ]
  },
  {
   "cell_type": "code",
   "execution_count": 0,
   "metadata": {
    "colab": {
     "base_uri": "https://localhost:8080/",
     "height": 35
    },
    "colab_type": "code",
    "executionInfo": {
     "elapsed": 19058,
     "status": "ok",
     "timestamp": 1561388302518,
     "user": {
      "displayName": "Alba Lamas",
      "photoUrl": "https://lh5.googleusercontent.com/-CMIgbGS5I5I/AAAAAAAAAAI/AAAAAAAAAFU/2jAVx3-lPO0/s64/photo.jpg",
      "userId": "18096898739694623677"
     },
     "user_tz": -120
    },
    "id": "BtZHR_Eku39w",
    "outputId": "b6b731ce-bbc0-4736-d9bc-5ce6bbada3c3"
   },
   "outputs": [
    {
     "name": "stdout",
     "output_type": "stream",
     "text": [
      "Drive already mounted at /content/drive/; to attempt to forcibly remount, call drive.mount(\"/content/drive/\", force_remount=True).\n"
     ]
    }
   ],
   "source": [
    "# Run this cell to mount your Google Drive.\n",
    "from google.colab import drive\n",
    "drive.mount('/content/drive/')\n"
   ]
  },
  {
   "cell_type": "code",
   "execution_count": 0,
   "metadata": {
    "colab": {},
    "colab_type": "code",
    "id": "Y4KzhHvRPYfB"
   },
   "outputs": [],
   "source": [
    "import os\n",
    "os.environ[\"JAVA_HOME\"] = \"/usr/lib/jvm/java-8-openjdk-amd64\"\n",
    "os.environ[\"SPARK_HOME\"] = \"/content/spark-2.4.3-bin-hadoop2.7\""
   ]
  },
  {
   "cell_type": "code",
   "execution_count": 0,
   "metadata": {
    "colab": {},
    "colab_type": "code",
    "id": "r64iqOci85FR"
   },
   "outputs": [],
   "source": [
    "import findspark\n",
    "findspark.init()\n",
    "from pyspark.sql import SparkSession\n",
    "sc = SparkSession.builder.master(\"local[*]\").getOrCreate()\n",
    "file_path = \"drive/My Drive/BIG DATA PROJECT/clean_data/\""
   ]
  },
  {
   "cell_type": "code",
   "execution_count": 0,
   "metadata": {
    "colab": {},
    "colab_type": "code",
    "id": "VVGULoALwrqc"
   },
   "outputs": [],
   "source": [
    "from pyspark.sql import SQLContext\n",
    "from pyspark.sql.functions import lit\n",
    "import matplotlib.pyplot as plt\n",
    "import seaborn as sns\n",
    "plt.rcParams['figure.figsize']=(20,10)"
   ]
  },
  {
   "cell_type": "code",
   "execution_count": 0,
   "metadata": {
    "colab": {
     "base_uri": "https://localhost:8080/",
     "height": 479
    },
    "colab_type": "code",
    "executionInfo": {
     "elapsed": 45621,
     "status": "ok",
     "timestamp": 1561388329141,
     "user": {
      "displayName": "Alba Lamas",
      "photoUrl": "https://lh5.googleusercontent.com/-CMIgbGS5I5I/AAAAAAAAAAI/AAAAAAAAAFU/2jAVx3-lPO0/s64/photo.jpg",
      "userId": "18096898739694623677"
     },
     "user_tz": -120
    },
    "id": "iSgJWEVY5ZdM",
    "outputId": "eb2d8c95-25ea-4e3d-d689-839bb8f64cba"
   },
   "outputs": [
    {
     "name": "stdout",
     "output_type": "stream",
     "text": [
      "+------------------+---------------------------+----------------+----------------+----------------+-----------------+-----------------+\n",
      "|Número d'expedient|Descripció tipus de vehicle|Descripció model|Descripció marca|Descripció color|Descripció carnet|Antiguitat carnet|\n",
      "+------------------+---------------------------+----------------+----------------+----------------+-----------------+-----------------+\n",
      "|       2010S002961|                    Turismo|            GOLF|      VOLKSWAGEN|      Desconegut|                B|                3|\n",
      "|       2010S003114|                 Ciclomotor|              YR|          YAMAHA|           Negre|               AM|                1|\n",
      "|       2010S001244|                  Furgoneta|        BERLINGO|         CITROEN|           Blanc|                B|                9|\n",
      "|       2010S001244|                       Taxi|          TOLEDO|            SEAT|          Altres|              BTP|               16|\n",
      "|       2010S001421|                  Furgoneta|         TRANSIT|            FORD|           Blanc|                B|                5|\n",
      "|       2010S001424|                Motocicleta|          Compay|         APRILIA|           Negre|                B|                5|\n",
      "|       2010S001426|                 Ciclomotor|      LIBERTY 50|         PIAGGIO|            Gris|                A|                1|\n",
      "|       2010S001554|           Camión <= 3,5 Tm|          CANTER|      MITSUBISHI|         Vermell|                B|                7|\n",
      "|       2010S001562|                Motocicleta|         CBF 600|           HONDA|           Negre|                A|                8|\n",
      "|       2010S002869|                    Turismo|           ASTRA|            OPEL|           Blanc|                B|               29|\n",
      "|       2010S003001|                    Turismo|          TOLEDO|            SEAT|            Gris|                B|               26|\n",
      "|       2010S000628|                Motocicleta|             X-9|         PIAGGIO|            Gris|                A|               43|\n",
      "|       2010S000630|                  Furgoneta|        BERLINGO|         CITROEN|      Desconegut|                B|                6|\n",
      "|       2010S000899|                Motocicleta|           X Max|          YAMAHA|            Gris|                A|               20|\n",
      "|       2010S000900|                    Turismo|             106|         PEUGEOT|         Vermell|       Desconegut|       Desconegut|\n",
      "|       2010S000421|                  Furgoneta|          KANGOO|         RENAULT|           Blanc|                B|               12|\n",
      "|       2010S000559|                    Turismo|            CLIO|         RENAULT|           Blanc|                B|               33|\n",
      "|       2010S000560|                Motocicleta|   FZS 600 FAZER|          YAMAHA|            Gris|                A|               20|\n",
      "|       2010S000560|                    Turismo|         MAZDA 6|           MAZDA|            Gris|                B|               12|\n",
      "|       2010S000836|                    Turismo|           FOCUS|            FORD|            Blau|                B|                7|\n",
      "+------------------+---------------------------+----------------+----------------+----------------+-----------------+-----------------+\n",
      "only showing top 20 rows\n",
      "\n"
     ]
    }
   ],
   "source": [
    "years = ['2011', '2012', '2013', '2014', '2015', '2016', '2017', '2018']\n",
    "\n",
    "df_accidents = sc.read.csv(file_path+'2010/accidents.csv', header=True)\n",
    "for year in years:\n",
    "  new_df = sc.read.csv(file_path+year+'/accidents.csv', header=True)\n",
    "  df_accidents = df_accidents.union(new_df)\n",
    "  \n",
    "df_vehicles = sc.read.csv(file_path+'2010/vehicles.csv', header=True)\n",
    "for year in years:\n",
    "  new_df = sc.read.csv(file_path+year+'/vehicles.csv', header=True)\n",
    "  df_vehicles = df_vehicles.union(new_df)\n",
    "df_vehicles.show()"
   ]
  },
  {
   "cell_type": "markdown",
   "metadata": {
    "colab_type": "text",
    "id": "4_7fGpX3NkW0"
   },
   "source": [
    "# In this section vehicles involved in accidents in BCN will be analyzed"
   ]
  },
  {
   "cell_type": "markdown",
   "metadata": {
    "colab_type": "text",
    "id": "WdovYRhsN1dx"
   },
   "source": [
    "## Fisrt, the study will show the most danger car colors."
   ]
  },
  {
   "cell_type": "code",
   "execution_count": 0,
   "metadata": {
    "colab": {},
    "colab_type": "code",
    "id": "eU32m0U8DC1R"
   },
   "outputs": [],
   "source": [
    "sc.conf.set(\"spark.sql.crossJoin.enabled\", \"true\")\n",
    "df_va = df_accidents.select('Número d\\'expedient').dropDuplicates().join(df_vehicles, [\"Número d'expedient\"])\n",
    "worst_colors = df_va.groupby('Descripció color').count().orderBy(\"count\", ascending=False)"
   ]
  },
  {
   "cell_type": "code",
   "execution_count": 0,
   "metadata": {
    "colab": {
     "base_uri": "https://localhost:8080/",
     "height": 390
    },
    "colab_type": "code",
    "executionInfo": {
     "elapsed": 57602,
     "status": "ok",
     "timestamp": 1561388341145,
     "user": {
      "displayName": "Alba Lamas",
      "photoUrl": "https://lh5.googleusercontent.com/-CMIgbGS5I5I/AAAAAAAAAAI/AAAAAAAAAFU/2jAVx3-lPO0/s64/photo.jpg",
      "userId": "18096898739694623677"
     },
     "user_tz": -120
    },
    "id": "JGJxM9-ZXnI9",
    "outputId": "7439eab3-5706-420c-d306-cd2e076ee6bf"
   },
   "outputs": [
    {
     "name": "stdout",
     "output_type": "stream",
     "text": [
      "+----------+------+\n",
      "|     color|number|\n",
      "+----------+------+\n",
      "|     Negre| 39432|\n",
      "|      Gris| 35387|\n",
      "|     Blanc| 32126|\n",
      "|      Blau| 13861|\n",
      "|   Vermell| 13579|\n",
      "|      Verd|  3819|\n",
      "|Negre/Groc|  3638|\n",
      "|      Groc|  2915|\n",
      "|   granate|  1194|\n",
      "|  Platejat|  1023|\n",
      "|     Marró|   835|\n",
      "|   Taronja|   778|\n",
      "|     Beige|   429|\n",
      "|    Daurat|   308|\n",
      "|   Violeta|   187|\n",
      "|      Rosa|   121|\n",
      "+----------+------+\n",
      "\n"
     ]
    }
   ],
   "source": [
    "from functools import reduce\n",
    "\n",
    "oldColumns = worst_colors.schema.names\n",
    "newColumns = [\"color\", \"number\"]\n",
    "\n",
    "worst_colors = reduce(lambda data, idx: data.withColumnRenamed(oldColumns[idx], newColumns[idx]), range(len(oldColumns)), worst_colors)\n",
    "worst_colors = worst_colors.filter(worst_colors.color!=\"Desconegut\")\n",
    "worst_colors = worst_colors.filter(worst_colors.color!=\"Altres\")\n",
    "worst_colors.show()"
   ]
  },
  {
   "cell_type": "code",
   "execution_count": 0,
   "metadata": {
    "colab": {
     "base_uri": "https://localhost:8080/",
     "height": 642
    },
    "colab_type": "code",
    "executionInfo": {
     "elapsed": 67324,
     "status": "ok",
     "timestamp": 1561388350888,
     "user": {
      "displayName": "Alba Lamas",
      "photoUrl": "https://lh5.googleusercontent.com/-CMIgbGS5I5I/AAAAAAAAAAI/AAAAAAAAAFU/2jAVx3-lPO0/s64/photo.jpg",
      "userId": "18096898739694623677"
     },
     "user_tz": -120
    },
    "id": "redvVTfJOM20",
    "outputId": "b1a3ad0b-8fb0-46ab-cdbf-95dfe1133095"
   },
   "outputs": [
    {
     "data": {
      "image/png": "[encoded data removed]",
      "text/plain": [
       "<Figure size 1440x720 with 1 Axes>"
      ]
     },
     "metadata": {
      "tags": []
     },
     "output_type": "display_data"
    }
   ],
   "source": [
    "for color in worst_colors.collect():\n",
    "  plt.bar(color.color, color.number)\n",
    "  plt.xticks(rotation=70)\n",
    "plt.show()"
   ]
  },
  {
   "cell_type": "markdown",
   "metadata": {
    "colab_type": "text",
    "id": "4VahCkt4QKcr"
   },
   "source": [
    "As we can see, the majority of cars involved in traffic accidents are black, gray or white. It should consider these three colors are also the most common, so this result doesn't mean they are the most danger at all."
   ]
  },
  {
   "cell_type": "markdown",
   "metadata": {
    "colab_type": "text",
    "id": "rRg50EtwT9dB"
   },
   "source": [
    "## Are the most inexperienced drivers the most involucrated in traffic accidents?"
   ]
  },
  {
   "cell_type": "code",
   "execution_count": 0,
   "metadata": {
    "colab": {
     "base_uri": "https://localhost:8080/",
     "height": 479
    },
    "colab_type": "code",
    "executionInfo": {
     "elapsed": 73560,
     "status": "ok",
     "timestamp": 1561388357148,
     "user": {
      "displayName": "Alba Lamas",
      "photoUrl": "https://lh5.googleusercontent.com/-CMIgbGS5I5I/AAAAAAAAAAI/AAAAAAAAAFU/2jAVx3-lPO0/s64/photo.jpg",
      "userId": "18096898739694623677"
     },
     "user_tz": -120
    },
    "id": "BYWpchtHULcZ",
    "outputId": "3031538f-1c0a-4c49-884b-1742d1bfeaaa"
   },
   "outputs": [
    {
     "name": "stdout",
     "output_type": "stream",
     "text": [
      "+----------+------+\n",
      "|antiguitat|number|\n",
      "+----------+------+\n",
      "|         1|  7051|\n",
      "|         2|  6838|\n",
      "|         4|  6768|\n",
      "|         5|  6689|\n",
      "|         3|  6583|\n",
      "|         6|  6402|\n",
      "|         7|  6079|\n",
      "|         8|  5801|\n",
      "|         9|  5336|\n",
      "|        10|  4902|\n",
      "|        11|  4169|\n",
      "|        12|  3802|\n",
      "|        13|  3584|\n",
      "|        14|  3409|\n",
      "|        15|  3211|\n",
      "|        16|  3150|\n",
      "|        22|  3149|\n",
      "|        19|  3119|\n",
      "|        18|  3098|\n",
      "|        21|  3096|\n",
      "+----------+------+\n",
      "only showing top 20 rows\n",
      "\n"
     ]
    }
   ],
   "source": [
    "sc.conf.set(\"spark.sql.crossJoin.enabled\", \"true\")\n",
    "df_va = df_accidents.select('Número d\\'expedient').dropDuplicates().join(df_vehicles, [\"Número d'expedient\"])\n",
    "worst_antiquity = df_va.groupby('Antiguitat carnet').count().orderBy(\"count\", ascending=False)\n",
    "\n",
    "oldColumns = worst_antiquity.schema.names\n",
    "newColumns = [\"antiguitat\", \"number\"]\n",
    "worst_antiquity = reduce(lambda data, idx: data.withColumnRenamed(oldColumns[idx], newColumns[idx]), range(len(oldColumns)), worst_antiquity)\n",
    "\n",
    "worst_antiquity = worst_antiquity.filter(worst_antiquity.antiguitat!=\"Desconegut\")\n",
    "worst_antiquity.show()"
   ]
  },
  {
   "cell_type": "code",
   "execution_count": 0,
   "metadata": {
    "colab": {
     "base_uri": "https://localhost:8080/",
     "height": 600
    },
    "colab_type": "code",
    "executionInfo": {
     "elapsed": 81839,
     "status": "ok",
     "timestamp": 1561388365454,
     "user": {
      "displayName": "Alba Lamas",
      "photoUrl": "https://lh5.googleusercontent.com/-CMIgbGS5I5I/AAAAAAAAAAI/AAAAAAAAAFU/2jAVx3-lPO0/s64/photo.jpg",
      "userId": "18096898739694623677"
     },
     "user_tz": -120
    },
    "id": "LpLZynasVXbd",
    "outputId": "7d8e1913-98e3-4830-e940-f6ab31a0fd70"
   },
   "outputs": [
    {
     "data": {
      "image/png": "[encoded data removed]",
      "text/plain": [
       "<Figure size 1440x720 with 1 Axes>"
      ]
     },
     "metadata": {
      "tags": []
     },
     "output_type": "display_data"
    }
   ],
   "source": [
    "for color in worst_antiquity.collect()[:20]:\n",
    "  plt.bar(color.antiguitat, color.number)\n",
    "  plt.xticks(rotation=70)\n",
    "plt.show()"
   ]
  },
  {
   "cell_type": "markdown",
   "metadata": {
    "colab_type": "text",
    "id": "DuWzAzhXV1hh"
   },
   "source": [
    "As we can observe, as fewer years of experience with a vehicle, is easier to have an accident. After the years, the number of traffic accidents is pretty constant."
   ]
  },
  {
   "cell_type": "markdown",
   "metadata": {
    "colab_type": "text",
    "id": "GOaeJZhTXPgh"
   },
   "source": [
    "## Which type of vehicles are more involucrated in accidents in BCN?"
   ]
  },
  {
   "cell_type": "code",
   "execution_count": 0,
   "metadata": {
    "colab": {
     "base_uri": "https://localhost:8080/",
     "height": 479
    },
    "colab_type": "code",
    "executionInfo": {
     "elapsed": 88294,
     "status": "ok",
     "timestamp": 1561388371933,
     "user": {
      "displayName": "Alba Lamas",
      "photoUrl": "https://lh5.googleusercontent.com/-CMIgbGS5I5I/AAAAAAAAAAI/AAAAAAAAAFU/2jAVx3-lPO0/s64/photo.jpg",
      "userId": "18096898739694623677"
     },
     "user_tz": -120
    },
    "id": "aUdGKbv2XIhz",
    "outputId": "b825c59c-f0e8-41e9-8873-08e9a0b1aa54"
   },
   "outputs": [
    {
     "name": "stdout",
     "output_type": "stream",
     "text": [
      "+--------------------+------+\n",
      "|               tipus|number|\n",
      "+--------------------+------+\n",
      "|             Turismo| 69909|\n",
      "|                Moto| 60551|\n",
      "|           Furgoneta| 10732|\n",
      "|                Taxi|  8846|\n",
      "|           Bicicleta|  6037|\n",
      "|             Autobús|  4208|\n",
      "|    Camión <= 3,5 Tm|  2064|\n",
      "|     Camión > 3,5 Tm|  1068|\n",
      "|Camió rígid <= 3,...|   487|\n",
      "|        Todo terreno|   391|\n",
      "|        Tractocamión|   317|\n",
      "|Camió rígid > 3,5...|   267|\n",
      "|             Autocar|   250|\n",
      "|Veh. mobilitat pe...|   128|\n",
      "|  Autobús articulado|   119|\n",
      "|   Autobús articulat|    99|\n",
      "|       Tractor camió|    84|\n",
      "|         Tot terreny|    80|\n",
      "|      Tranv¡a o tren|    63|\n",
      "|Altres vehicles a...|    62|\n",
      "+--------------------+------+\n",
      "only showing top 20 rows\n",
      "\n"
     ]
    }
   ],
   "source": [
    "sc.conf.set(\"spark.sql.crossJoin.enabled\", \"true\")\n",
    "df_va = df_accidents.select('Número d\\'expedient').dropDuplicates().join(df_vehicles, [\"Número d'expedient\"])\n",
    "worst_type = df_va.replace(\"Turisme\",  \"Turismo\").replace(\"Motocicleta\",  \"Moto\").replace(\"Ciclomotor\",  \"Moto\").groupby('Descripció tipus de vehicle').count().orderBy(\"count\", ascending=False)\n",
    "\n",
    "oldColumns = worst_type.schema.names\n",
    "newColumns = [\"tipus\", \"number\"]\n",
    "worst_type = reduce(lambda data, idx: data.withColumnRenamed(oldColumns[idx], newColumns[idx]), range(len(oldColumns)), worst_type)\n",
    "\n",
    "worst_type = worst_type.filter(worst_type.tipus!=\"Otros veh¡c. a motor\")\n",
    "worst_type.show()"
   ]
  },
  {
   "cell_type": "markdown",
   "metadata": {
    "colab_type": "text",
    "id": "u-emA87nZIpa"
   },
   "source": [
    "We consider all \"motocicleta\" and \"cilomotor\" as \"moto\""
   ]
  },
  {
   "cell_type": "code",
   "execution_count": 0,
   "metadata": {
    "colab": {
     "base_uri": "https://localhost:8080/",
     "height": 708
    },
    "colab_type": "code",
    "executionInfo": {
     "elapsed": 96708,
     "status": "ok",
     "timestamp": 1561388380366,
     "user": {
      "displayName": "Alba Lamas",
      "photoUrl": "https://lh5.googleusercontent.com/-CMIgbGS5I5I/AAAAAAAAAAI/AAAAAAAAAFU/2jAVx3-lPO0/s64/photo.jpg",
      "userId": "18096898739694623677"
     },
     "user_tz": -120
    },
    "id": "T698BzU2YAZJ",
    "outputId": "ab58ae16-8c8a-4dea-98a8-57e9930b527c"
   },
   "outputs": [
    {
     "data": {
      "image/png": "[encoded data removed]",
      "text/plain": [
       "<Figure size 1440x720 with 1 Axes>"
      ]
     },
     "metadata": {
      "tags": []
     },
     "output_type": "display_data"
    }
   ],
   "source": [
    "for color in worst_type.collect()[:10]:\n",
    "  plt.bar(color.tipus, color.number)\n",
    "  plt.xticks(rotation=70)\n",
    "plt.show()"
   ]
  },
  {
   "cell_type": "markdown",
   "metadata": {
    "colab_type": "text",
    "id": "cmHGp13IZVk6"
   },
   "source": [
    "Private cars and motorbikes are the most common involucrated in accidents."
   ]
  }
 ],
 "metadata": {
  "colab": {
   "collapsed_sections": [],
   "name": "Vehicles.ipynb",
   "provenance": [
    {
     "file_id": "1VWPHMMThLY4SBoR4RmiOLU_8xilJCSY4",
     "timestamp": 1561282834537
    }
   ],
   "version": "0.3.2"
  },
  "kernelspec": {
   "display_name": "Python 3",
   "language": "python",
   "name": "python3"
  },
  "language_info": {
   "codemirror_mode": {
    "name": "ipython",
    "version": 3
   },
   "file_extension": ".py",
   "mimetype": "text/x-python",
   "name": "python",
   "nbconvert_exporter": "python",
   "pygments_lexer": "ipython3",
   "version": "3.7.5"
  }
 },
 "nbformat": 4,
 "nbformat_minor": 1
}
