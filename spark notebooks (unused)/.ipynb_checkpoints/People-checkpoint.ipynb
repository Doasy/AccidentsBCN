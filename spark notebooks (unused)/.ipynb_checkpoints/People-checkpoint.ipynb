{
 "cells": [
  {
   "cell_type": "markdown",
   "metadata": {
    "colab_type": "text",
    "id": "O_Uxs0k7nqVv"
   },
   "source": [
    "# The spark version is 2.4.3 but if the link fails go to and see which is the spark version available\n"
   ]
  },
  {
   "cell_type": "code",
   "execution_count": 0,
   "metadata": {
    "colab": {},
    "colab_type": "code",
    "id": "ZQ2BiwrlvJuP"
   },
   "outputs": [],
   "source": [
    "!apt-get install openjdk-8-jdk-headless -qq > /dev/null\n",
    "!wget -q https://www-us.apache.org/dist/spark/spark-2.4.3/spark-2.4.3-bin-hadoop2.7.tgz\n",
    "!tar xf spark-2.4.3-bin-hadoop2.7.tgz\n",
    "!pip install -q findspark"
   ]
  },
  {
   "cell_type": "code",
   "execution_count": 0,
   "metadata": {
    "colab": {
     "base_uri": "https://localhost:8080/",
     "height": 126
    },
    "colab_type": "code",
    "executionInfo": {
     "elapsed": 50291,
     "status": "ok",
     "timestamp": 1561377348294,
     "user": {
      "displayName": "Alba Lamas",
      "photoUrl": "https://lh5.googleusercontent.com/-CMIgbGS5I5I/AAAAAAAAAAI/AAAAAAAAAFU/2jAVx3-lPO0/s64/photo.jpg",
      "userId": "18096898739694623677"
     },
     "user_tz": -120
    },
    "id": "BtZHR_Eku39w",
    "outputId": "5aeccb16-5f92-43a5-c09e-219789dcc484"
   },
   "outputs": [
    {
     "name": "stdout",
     "output_type": "stream",
     "text": [
      "Go to this URL in a browser: https://accounts.google.com/o/oauth2/auth?client_id=947318989803-6bn6qk8qdgf4n4g3pfee6491hc0brc4i.apps.googleusercontent.com&redirect_uri=urn%3Aietf%3Awg%3Aoauth%3A2.0%3Aoob&scope=email%20https%3A%2F%2Fwww.googleapis.com%2Fauth%2Fdocs.test%20https%3A%2F%2Fwww.googleapis.com%2Fauth%2Fdrive%20https%3A%2F%2Fwww.googleapis.com%2Fauth%2Fdrive.photos.readonly%20https%3A%2F%2Fwww.googleapis.com%2Fauth%2Fpeopleapi.readonly&response_type=code\n",
      "\n",
      "Enter your authorization code:\n",
      "··········\n",
      "Mounted at /content/drive/\n"
     ]
    }
   ],
   "source": [
    "# Run this cell to mount your Google Drive.\n",
    "from google.colab import drive\n",
    "drive.mount('/content/drive/')\n"
   ]
  },
  {
   "cell_type": "code",
   "execution_count": 0,
   "metadata": {
    "colab": {},
    "colab_type": "code",
    "id": "Y4KzhHvRPYfB"
   },
   "outputs": [],
   "source": [
    "import os\n",
    "os.environ[\"JAVA_HOME\"] = \"/usr/lib/jvm/java-8-openjdk-amd64\"\n",
    "os.environ[\"SPARK_HOME\"] = \"/content/spark-2.4.3-bin-hadoop2.7\""
   ]
  },
  {
   "cell_type": "code",
   "execution_count": 0,
   "metadata": {
    "colab": {},
    "colab_type": "code",
    "id": "r64iqOci85FR"
   },
   "outputs": [],
   "source": [
    "import findspark\n",
    "findspark.init()\n",
    "from pyspark.sql import SparkSession\n",
    "sc = SparkSession.builder.master(\"local[*]\").getOrCreate()\n",
    "file_path = \"drive/My Drive/BIG DATA PROJECT/clean_data/\""
   ]
  },
  {
   "cell_type": "code",
   "execution_count": 0,
   "metadata": {
    "colab": {},
    "colab_type": "code",
    "id": "VVGULoALwrqc"
   },
   "outputs": [],
   "source": [
    "from pyspark.sql import SQLContext\n",
    "from pyspark.sql.functions import lit\n",
    "import matplotlib.pyplot as plt\n",
    "import seaborn as sns\n",
    "\n",
    "plt.rcParams['figure.figsize']=(20,10)"
   ]
  },
  {
   "cell_type": "code",
   "execution_count": 0,
   "metadata": {
    "colab": {
     "base_uri": "https://localhost:8080/",
     "height": 479
    },
    "colab_type": "code",
    "executionInfo": {
     "elapsed": 23344,
     "status": "ok",
     "timestamp": 1561377574661,
     "user": {
      "displayName": "Alba Lamas",
      "photoUrl": "https://lh5.googleusercontent.com/-CMIgbGS5I5I/AAAAAAAAAAI/AAAAAAAAAFU/2jAVx3-lPO0/s64/photo.jpg",
      "userId": "18096898739694623677"
     },
     "user_tz": -120
    },
    "id": "iSgJWEVY5ZdM",
    "outputId": "05888e6d-9d4a-4057-9acd-3a6a48e6e5d1"
   },
   "outputs": [
    {
     "name": "stdout",
     "output_type": "stream",
     "text": [
      "+------------------+------------------------+----------------------------+---------------+------------------------+----+------------------------+\n",
      "|Número d'expedient|Descripció causa vianant|Desc. Tipus vehicle implicat|Descripció sexe|Descripció tipus persona|Edat|Descripció victimització|\n",
      "+------------------+------------------------+----------------------------+---------------+------------------------+----+------------------------+\n",
      "|   2010S000001    |    No és causa del  ...|                 Motocicleta|           Home|               Conductor|  30|              Ferit lleu|\n",
      "|   2010S000001    |    No és causa del  ...|                 Motocicleta|           Home|               Conductor|  39|              Ferit lleu|\n",
      "|   2010S000002    |    No és causa del  ...|                  Ciclomotor|           Home|               Conductor|  39|              Ferit lleu|\n",
      "|   2010S000005    |    No és causa del  ...|                 Motocicleta|           Home|               Conductor|  34|              Ferit lleu|\n",
      "|   2010S000006    |    No és causa del  ...|                     Turismo|           Dona|               Conductor|  32|              Ferit lleu|\n",
      "|   2010S000007    |    No és causa del  ...|                   Furgoneta|           Home|               Passatger|  40|              Ferit lleu|\n",
      "|   2010S000007    |    No és causa del  ...|                     Turismo|           Home|               Conductor|  42|              Ferit lleu|\n",
      "|   2010S000008    |    No és causa del  ...|                  Ciclomotor|           Home|               Conductor|  18|              Ferit lleu|\n",
      "|   2010S000008    |    No és causa del  ...|                  Ciclomotor|           Home|               Passatger|  19|              Ferit lleu|\n",
      "|   2010S000009    |    No és causa del  ...|                 Motocicleta|           Home|               Conductor|  43|              Ferit lleu|\n",
      "|   2010S000010    |    No és causa del  ...|                 Motocicleta|           Home|               Conductor|  43|              Ferit lleu|\n",
      "|   2010S000012    |    No és causa del  ...|                 Motocicleta|           Dona|               Conductor|  46|              Ferit lleu|\n",
      "|   2010S000012    |    No és causa del  ...|                 Motocicleta|           Home|               Conductor|  39|              Ferit lleu|\n",
      "|   2010S000013    |    No és causa del  ...|                 Motocicleta|           Dona|               Passatger|  25|              Ferit lleu|\n",
      "|   2010S000013    |    No és causa del  ...|                 Motocicleta|           Home|               Conductor|  24|              Ferit lleu|\n",
      "|   2010S000014    |    No és causa del  ...|                 Motocicleta|           Dona|               Passatger|  33|              Ferit lleu|\n",
      "|   2010S000014    |    No és causa del  ...|                 Motocicleta|           Home|               Conductor|  29|              Ferit lleu|\n",
      "|   2010S000015    |    No és causa del  ...|                     Turismo|           Home|               Passatger|  37|              Ferit lleu|\n",
      "|   2010S000015    |    No és causa del  ...|                 Motocicleta|           Home|               Conductor|  47|              Ferit lleu|\n",
      "|   2010S000015    |    No és causa del  ...|                     Turismo|           Dona|               Passatger|  19|              Ferit lleu|\n",
      "+------------------+------------------------+----------------------------+---------------+------------------------+----+------------------------+\n",
      "only showing top 20 rows\n",
      "\n"
     ]
    }
   ],
   "source": [
    "years = ['2011', '2012', '2013', '2014', '2015', '2016', '2017', '2018']\n",
    "\n",
    "df_accidents = sc.read.csv(file_path+'2010/accidents.csv', header=True)\n",
    "for year in years:\n",
    "  new_df = sc.read.csv(file_path+year+'/accidents.csv', header=True)\n",
    "  df_accidents = df_accidents.union(new_df)\n",
    "  \n",
    "df_people = sc.read.csv(file_path+'2010/persones.csv', header=True)\n",
    "for year in years:\n",
    "  new_df = sc.read.csv(file_path+year+'/persones.csv', header=True)\n",
    "  df_people = df_people.union(new_df)\n",
    "df_people.show()"
   ]
  },
  {
   "cell_type": "markdown",
   "metadata": {
    "colab_type": "text",
    "id": "4_7fGpX3NkW0"
   },
   "source": [
    "# In this section, people involved in accidents in BCN will be analyzed"
   ]
  },
  {
   "cell_type": "markdown",
   "metadata": {
    "colab_type": "text",
    "id": "WdovYRhsN1dx"
   },
   "source": [
    "## First, the study will show the ages of people involved in accidents."
   ]
  },
  {
   "cell_type": "code",
   "execution_count": 0,
   "metadata": {
    "colab": {},
    "colab_type": "code",
    "id": "JGJxM9-ZXnI9"
   },
   "outputs": [],
   "source": [
    "from functools import reduce\n",
    "from pyspark.sql import functions as F\n",
    "\n",
    "sc.conf.set(\"spark.sql.crossJoin.enabled\", \"true\")\n",
    "df_va = df_accidents.select('Número d\\'expedient').dropDuplicates().join(df_people, [\"Número d'expedient\"])\n",
    "ages = df_va\n",
    "\n",
    "\n",
    "oldColumns = ages.schema.names\n",
    "newColumns = [\"numero_expedient\", \"causa\", \"vehicle_implicat\", \"sexe\", \"tipus_person\",\"edat\", \"victimitzacio\"]\n",
    "\n",
    "ages = reduce(lambda data, idx: data.withColumnRenamed(oldColumns[idx], newColumns[idx]), range(len(oldColumns)), ages)\n",
    "ages = ages.filter(ages.edat!=\"Conductor\")\n",
    "ages = ages.filter(ages.edat!=\"Passatger\")\n",
    "ages = ages.filter(ages.edat!=\"Vianant\")\n",
    "ages = ages.filter(ages.edat!=\"Desconegut\")\n",
    "ages = ages.withColumn(\"range\", F.when(ages[\"edat\"].between(0,11), \"child\").when(ages[\"edat\"].between(12,18), \"teenager\").when(ages[\"edat\"].between(19,35), \"young adult\").when(ages[\"edat\"].between(36,65), \"adult\").otherwise(\"advanced age\"))\n",
    "\n"
   ]
  },
  {
   "cell_type": "code",
   "execution_count": 0,
   "metadata": {
    "colab": {
     "base_uri": "https://localhost:8080/",
     "height": 195
    },
    "colab_type": "code",
    "executionInfo": {
     "elapsed": 5114,
     "status": "ok",
     "timestamp": 1561388618131,
     "user": {
      "displayName": "Alba Lamas",
      "photoUrl": "https://lh5.googleusercontent.com/-CMIgbGS5I5I/AAAAAAAAAAI/AAAAAAAAAFU/2jAVx3-lPO0/s64/photo.jpg",
      "userId": "18096898739694623677"
     },
     "user_tz": -120
    },
    "id": "hT5q6lREA2XT",
    "outputId": "e678672e-1c9d-4471-9e11-dc41c03d4f6d"
   },
   "outputs": [
    {
     "name": "stdout",
     "output_type": "stream",
     "text": [
      "+------------+------+\n",
      "|       range|number|\n",
      "+------------+------+\n",
      "|       adult| 15262|\n",
      "| young adult| 15211|\n",
      "|advanced age|  2293|\n",
      "|    teenager|  1191|\n",
      "|       child|   875|\n",
      "+------------+------+\n",
      "\n"
     ]
    }
   ],
   "source": [
    "ages_count = ages.groupby('range').count().orderBy(\"count\", ascending=False)\n",
    "\n",
    "oldColumns = ages_count.schema.names\n",
    "newColumns = [\"range\", \"number\"]\n",
    "\n",
    "ages_count = reduce(lambda data, idx: data.withColumnRenamed(oldColumns[idx], newColumns[idx]), range(len(oldColumns)), ages_count)\n",
    "\n",
    "ages_count.show()"
   ]
  },
  {
   "cell_type": "code",
   "execution_count": 0,
   "metadata": {
    "colab": {
     "base_uri": "https://localhost:8080/",
     "height": 655
    },
    "colab_type": "code",
    "executionInfo": {
     "elapsed": 6436,
     "status": "ok",
     "timestamp": 1561384968927,
     "user": {
      "displayName": "Alba Lamas",
      "photoUrl": "https://lh5.googleusercontent.com/-CMIgbGS5I5I/AAAAAAAAAAI/AAAAAAAAAFU/2jAVx3-lPO0/s64/photo.jpg",
      "userId": "18096898739694623677"
     },
     "user_tz": -120
    },
    "id": "redvVTfJOM20",
    "outputId": "214aeccb-0e7e-4bab-d91a-cadf1c6031b8"
   },
   "outputs": [
    {
     "data": {
      "image/png": "[encoded data removed]",
      "text/plain": [
       "<Figure size 1440x720 with 1 Axes>"
      ]
     },
     "metadata": {
      "tags": []
     },
     "output_type": "display_data"
    }
   ],
   "source": [
    "for age in ages_count.collect()[:30]:\n",
    "  plt.bar(age.range, age.number)\n",
    "  plt.xticks(rotation=70)\n",
    "plt.show()"
   ]
  },
  {
   "cell_type": "markdown",
   "metadata": {
    "colab_type": "text",
    "id": "4VahCkt4QKcr"
   },
   "source": [
    "*   Children: from 0 to 11\n",
    "*   Teenager: from 12 to 18\n",
    "*   Young adult: from 19 to 35\n",
    "*   Adult: from 36 to 65\n",
    "*   Advanced age: from 65 to infinite\n",
    "\n",
    "We can see that normally the people involved in traffic accidents are adults, is normal because normally people in vehicles are from those ages. Even the number of teenagers and children involved in accidents is less, this quantity is critical."
   ]
  },
  {
   "cell_type": "markdown",
   "metadata": {
    "colab_type": "text",
    "id": "BcOAg_wvCm_3"
   },
   "source": [
    "## Let's check which genre is more involved in traffic accidents."
   ]
  },
  {
   "cell_type": "code",
   "execution_count": 0,
   "metadata": {
    "colab": {
     "base_uri": "https://localhost:8080/",
     "height": 141
    },
    "colab_type": "code",
    "executionInfo": {
     "elapsed": 4698,
     "status": "ok",
     "timestamp": 1561388794447,
     "user": {
      "displayName": "Alba Lamas",
      "photoUrl": "https://lh5.googleusercontent.com/-CMIgbGS5I5I/AAAAAAAAAAI/AAAAAAAAAFU/2jAVx3-lPO0/s64/photo.jpg",
      "userId": "18096898739694623677"
     },
     "user_tz": -120
    },
    "id": "erprGTd9A6Np",
    "outputId": "d81fcbbd-8011-46c8-aa74-ba23e1af3cd5"
   },
   "outputs": [
    {
     "name": "stdout",
     "output_type": "stream",
     "text": [
      "+----+------+\n",
      "|sexe|number|\n",
      "+----+------+\n",
      "|Home| 21401|\n",
      "|Dona| 13427|\n",
      "+----+------+\n",
      "\n"
     ]
    }
   ],
   "source": [
    "sex_count = ages.groupby('sexe').count().orderBy(\"count\", ascending=False)\n",
    "\n",
    "oldColumns = sex_count.schema.names\n",
    "newColumns = [\"sexe\", \"number\"]\n",
    "\n",
    "sex_count = reduce(lambda data, idx: data.withColumnRenamed(oldColumns[idx], newColumns[idx]), range(len(oldColumns)), sex_count)\n",
    "sex_count = sex_count.filter(sex_count.sexe!=\"Desconegut\")\n",
    "\n",
    "sex_count.show()"
   ]
  },
  {
   "cell_type": "code",
   "execution_count": 0,
   "metadata": {
    "colab": {
     "base_uri": "https://localhost:8080/",
     "height": 616
    },
    "colab_type": "code",
    "executionInfo": {
     "elapsed": 6138,
     "status": "ok",
     "timestamp": 1561388837131,
     "user": {
      "displayName": "Alba Lamas",
      "photoUrl": "https://lh5.googleusercontent.com/-CMIgbGS5I5I/AAAAAAAAAAI/AAAAAAAAAFU/2jAVx3-lPO0/s64/photo.jpg",
      "userId": "18096898739694623677"
     },
     "user_tz": -120
    },
    "id": "cBBPx02BBmUX",
    "outputId": "5fbf4a37-217d-424c-a5fb-9ffcba8f75a3"
   },
   "outputs": [
    {
     "data": {
      "image/png": "[encoded data removed]",
      "text/plain": [
       "<Figure size 1440x720 with 1 Axes>"
      ]
     },
     "metadata": {
      "tags": []
     },
     "output_type": "display_data"
    }
   ],
   "source": [
    "for sex in sex_count.collect()[:30]:\n",
    "  plt.bar(sex.sexe, sex.number)\n",
    "  plt.xticks(rotation=70)\n",
    "plt.show()"
   ]
  },
  {
   "cell_type": "markdown",
   "metadata": {
    "colab_type": "text",
    "id": "u2xAHh2xB2de"
   },
   "source": [
    "As it's shown in the previous image, the number of men involved in accidents is almost double as women. It could happen because probably men are less careful driving and walking around the city."
   ]
  }
 ],
 "metadata": {
  "colab": {
   "collapsed_sections": [],
   "name": "People.ipynb",
   "provenance": [
    {
     "file_id": "1VWPHMMThLY4SBoR4RmiOLU_8xilJCSY4",
     "timestamp": 1561282834537
    }
   ],
   "version": "0.3.2"
  },
  "kernelspec": {
   "display_name": "Python 3",
   "language": "python",
   "name": "python3"
  },
  "language_info": {
   "codemirror_mode": {
    "name": "ipython",
    "version": 3
   },
   "file_extension": ".py",
   "mimetype": "text/x-python",
   "name": "python",
   "nbconvert_exporter": "python",
   "pygments_lexer": "ipython3",
   "version": "3.7.5"
  }
 },
 "nbformat": 4,
 "nbformat_minor": 1
}
