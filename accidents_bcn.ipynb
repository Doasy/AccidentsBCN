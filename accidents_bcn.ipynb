{
 "cells": [
  {
   "cell_type": "code",
   "execution_count": 94,
   "metadata": {},
   "outputs": [],
   "source": [
    "import pandas as pd\n",
    "import numpy as np\n",
    "import chardet"
   ]
  },
  {
   "cell_type": "code",
   "execution_count": 95,
   "metadata": {},
   "outputs": [],
   "source": [
    "accidents2010 = pd.read_csv('accidents/2010.csv', encoding='ANSI')\n"
   ]
  },
  {
   "cell_type": "code",
   "execution_count": 96,
   "metadata": {
    "scrolled": false
   },
   "outputs": [],
   "source": [
    "causes2010 = pd.read_csv('causes/2010.csv', encoding = 'ANSI')[['N£mero d\\'expedient', 'Descripci¢ causa mediata']]\n",
    "causes2010.columns = ['Número d\\'expedient', 'Descripció cauda mediata']\n",
    "causes2010['Descripció cauda mediata'] = causes2010['Descripció cauda mediata'].str.replace('‚', 'é')\n",
    "causes2010['Descripció cauda mediata'] = causes2010['Descripció cauda mediata'].str.replace('Š', 'è')\n",
    "causes2010['Descripció cauda mediata'] = causes2010['Descripció cauda mediata'].str.replace('‡', 'ç')\n",
    "causes2010['Descripció cauda mediata'] = causes2010['Descripció cauda mediata'].str.replace('¢', 'ó')\n",
    "causes2010['Descripció cauda mediata'] = causes2010['Descripció cauda mediata'].str.replace('£', 'ú')\n"
   ]
  },
  {
   "cell_type": "code",
   "execution_count": 97,
   "metadata": {},
   "outputs": [],
   "source": [
    "tipus2010 = pd.read_csv('tipus/2010.csv', encoding='ANSI')[['N£mero d\\'expedient', 'Descripci¢ tipus accident']]\n",
    "tipus2010.columns = ['Número d\\'expedient', 'Descripció tipus accident']\n",
    "tipus2010['Descripció tipus accident'] = tipus2010['Descripció tipus accident'].str.replace('‚', 'é')\n",
    "tipus2010['Descripció tipus accident'] = tipus2010['Descripció tipus accident'].str.replace('Š', 'è')\n",
    "tipus2010['Descripció tipus accident'] = tipus2010['Descripció tipus accident'].str.replace('‡', 'ç')\n",
    "tipus2010['Descripció tipus accident'] = tipus2010['Descripció tipus accident'].str.replace('¢', 'ó')\n",
    "tipus2010['Descripció tipus accident'] = tipus2010['Descripció tipus accident'].str.replace('…', 'à')\n",
    "tipus2010['Descripció tipus accident'] = tipus2010['Descripció tipus accident'].str.replace('£', 'ú')\n"
   ]
  },
  {
   "cell_type": "code",
   "execution_count": 98,
   "metadata": {},
   "outputs": [],
   "source": [
    "persones2010 = pd.read_csv('persones/2010.csv', encoding='ANSI')[['Número d\\'expedient','Descripció causa vianant',  'Desc. Tipus vehicle implicat', 'Descripció sexe', 'Descripció tipus persona', 'Edat', 'Descripció victimització']]\n"
   ]
  },
  {
   "cell_type": "code",
   "execution_count": 99,
   "metadata": {},
   "outputs": [],
   "source": [
    "vehicles2010 = pd.read_csv('vehicles/2010.csv', encoding='ANSI')[['Codi d\\'expedient', 'Descripci¢ tipus de vehicle', 'Descripci¢ model', 'Descripci¢ marca', 'Descripci¢ color', 'Descripci¢ carnet', 'Antiguitat carnet']]\n",
    "vehicles2010.columns = ['Número d\\'expedient', 'Descripció tipus de vehicle', 'Descripció model', 'Descripció marca', 'Descripció color', 'Descripció carnet', 'Antiguitat carnet']\n",
    "vehicles2010 = vehicles2010.apply(lambda x: x.str.replace('‚', 'é'), axis=1)\n",
    "vehicles2010 = vehicles2010.apply(lambda x: x.str.replace('Š', 'è'), axis=1)\n",
    "vehicles2010 = vehicles2010.apply(lambda x: x.str.replace('‡', 'ç'), axis=1)\n",
    "vehicles2010 = vehicles2010.apply(lambda x: x.str.replace('¢', 'ó'), axis=1)\n",
    "vehicles2010 = vehicles2010.apply(lambda x: x.str.replace('…', 'à'), axis=1)\n",
    "vehicles2010 = vehicles2010.apply(lambda x: x.str.replace('£', 'ú'), axis=1)\n"
   ]
  },
  {
   "cell_type": "code",
   "execution_count": 100,
   "metadata": {},
   "outputs": [],
   "source": [
    "accidents2011 = pd.read_csv('accidents/2011.csv', encoding='ANSI')\n"
   ]
  },
  {
   "cell_type": "code",
   "execution_count": 101,
   "metadata": {},
   "outputs": [],
   "source": [
    "causes2011 = pd.read_csv('causes/2011.csv', encoding = 'ANSI')[['N£mero d\\'expedient', 'Descripci¢ causa mediata']]\n",
    "causes2011.columns = ['Número d\\'expedient', 'Descripció cauda mediata']\n",
    "causes2011['Descripció cauda mediata'] = causes2011['Descripció cauda mediata'].str.replace('‚', 'é')\n",
    "causes2011['Descripció cauda mediata'] = causes2011['Descripció cauda mediata'].str.replace('Š', 'è')\n",
    "causes2011['Descripció cauda mediata'] = causes2011['Descripció cauda mediata'].str.replace('‡', 'ç')\n",
    "causes2011['Descripció cauda mediata'] = causes2011['Descripció cauda mediata'].str.replace('¢', 'ó')\n",
    "causes2011['Descripció cauda mediata'] = causes2011['Descripció cauda mediata'].str.replace('£', 'ú')\n"
   ]
  },
  {
   "cell_type": "code",
   "execution_count": 102,
   "metadata": {},
   "outputs": [],
   "source": [
    "tipus2011 = pd.read_csv('tipus/2011.csv', encoding='ANSI')[['N£mero d\\'expedient', 'Descripci¢ tipus accident']]\n",
    "tipus2011.columns = ['Número d\\'expedient', 'Descripció tipus accident']\n",
    "tipus2011['Descripció tipus accident'] = tipus2011['Descripció tipus accident'].str.replace('‚', 'é')\n",
    "tipus2011['Descripció tipus accident'] = tipus2011['Descripció tipus accident'].str.replace('Š', 'è')\n",
    "tipus2011['Descripció tipus accident'] = tipus2011['Descripció tipus accident'].str.replace('‡', 'ç')\n",
    "tipus2011['Descripció tipus accident'] = tipus2011['Descripció tipus accident'].str.replace('¢', 'ó')\n",
    "tipus2011['Descripció tipus accident'] = tipus2011['Descripció tipus accident'].str.replace('…', 'à')\n",
    "tipus2011['Descripció tipus accident'] = tipus2011['Descripció tipus accident'].str.replace('£', 'ú')\n"
   ]
  },
  {
   "cell_type": "code",
   "execution_count": 103,
   "metadata": {},
   "outputs": [],
   "source": [
    "persones2011 = pd.read_csv('persones/2011.csv', encoding='ANSI')[['Número d\\'expedient','Descripció causa vianant',  'Desc. Tipus vehicle implicat', 'Descripció sexe', 'Descripció tipus persona', 'Edat', 'Descripció victimització']]\n"
   ]
  },
  {
   "cell_type": "code",
   "execution_count": 104,
   "metadata": {},
   "outputs": [],
   "source": [
    "vehicles2011 = pd.read_csv('vehicles/2011.csv', encoding='ANSI')[['Codi d\\'expedient', 'Descripci¢ tipus de vehicle', 'Descripci¢ model', 'Descripci¢ marca', 'Descripci¢ color', 'Descripci¢ carnet', 'Antiguitat carnet']]\n",
    "vehicles2011.columns = ['Número d\\'expedient', 'Descripció tipus de vehicle', 'Descripció model', 'Descripció marca', 'Descripció color', 'Descripció carnet', 'Antiguitat carnet']\n",
    "vehicles2011 = vehicles2011.apply(lambda x: x.str.replace('‚', 'é'), axis=1)\n",
    "vehicles2011 = vehicles2011.apply(lambda x: x.str.replace('Š', 'è'), axis=1)\n",
    "vehicles2011 = vehicles2011.apply(lambda x: x.str.replace('‡', 'ç'), axis=1)\n",
    "vehicles2011 = vehicles2011.apply(lambda x: x.str.replace('¢', 'ó'), axis=1)\n",
    "vehicles2011 = vehicles2011.apply(lambda x: x.str.replace('…', 'à'), axis=1)\n",
    "vehicles2011 = vehicles2011.apply(lambda x: x.str.replace('£', 'ú'), axis=1)\n"
   ]
  },
  {
   "cell_type": "code",
   "execution_count": 105,
   "metadata": {},
   "outputs": [],
   "source": [
    "accidents2012 = pd.read_csv('accidents/2012.csv', encoding='ANSI')\n"
   ]
  },
  {
   "cell_type": "code",
   "execution_count": 106,
   "metadata": {},
   "outputs": [],
   "source": [
    "causes2012 = pd.read_csv('causes/2012.csv', encoding = 'ANSI')[['N£mero d\\'expedient', 'Descripci¢ causa mediata']]\n",
    "causes2012.columns = ['Número d\\'expedient', 'Descripció cauda mediata']\n",
    "causes2012['Descripció cauda mediata'] = causes2012['Descripció cauda mediata'].str.replace('‚', 'é')\n",
    "causes2012['Descripció cauda mediata'] = causes2012['Descripció cauda mediata'].str.replace('Š', 'è')\n",
    "causes2012['Descripció cauda mediata'] = causes2012['Descripció cauda mediata'].str.replace('‡', 'ç')\n",
    "causes2012['Descripció cauda mediata'] = causes2012['Descripció cauda mediata'].str.replace('¢', 'ó')\n",
    "causes2012['Descripció cauda mediata'] = causes2012['Descripció cauda mediata'].str.replace('£', 'ú')\n"
   ]
  },
  {
   "cell_type": "code",
   "execution_count": 107,
   "metadata": {},
   "outputs": [],
   "source": [
    "tipus2012 = pd.read_csv('tipus/2012.csv', encoding='ANSI')[['N£mero d\\'expedient', 'Descripci¢ tipus accident']]\n",
    "tipus2012.columns = ['Número d\\'expedient', 'Descripció tipus accident']\n",
    "tipus2012['Descripció tipus accident'] = tipus2012['Descripció tipus accident'].str.replace('‚', 'é')\n",
    "tipus2012['Descripció tipus accident'] = tipus2012['Descripció tipus accident'].str.replace('Š', 'è')\n",
    "tipus2012['Descripció tipus accident'] = tipus2012['Descripció tipus accident'].str.replace('‡', 'ç')\n",
    "tipus2012['Descripció tipus accident'] = tipus2012['Descripció tipus accident'].str.replace('¢', 'ó')\n",
    "tipus2012['Descripció tipus accident'] = tipus2012['Descripció tipus accident'].str.replace('…', 'à')\n",
    "tipus2012['Descripció tipus accident'] = tipus2012['Descripció tipus accident'].str.replace('£', 'ú')\n"
   ]
  },
  {
   "cell_type": "code",
   "execution_count": 108,
   "metadata": {},
   "outputs": [],
   "source": [
    "persones2012 = pd.read_csv('persones/2012.csv', encoding='ANSI')[['Número d\\'expedient','Descripció causa vianant',  'Desc. Tipus vehicle implicat', 'Descripció sexe', 'Descripció tipus persona', 'Edat', 'Descripció victimització']]\n"
   ]
  },
  {
   "cell_type": "code",
   "execution_count": 109,
   "metadata": {
    "scrolled": false
   },
   "outputs": [],
   "source": [
    "vehicles2012 = pd.read_csv('vehicles/2012.csv', encoding='ANSI')[['Codi d\\'expedient', 'Descripci¢ tipus de vehicle', 'Descripci¢ model', 'Descripci¢ marca', 'Descripci¢ color', 'Descripci¢ carnet', 'Antiguitat carnet']]\n",
    "vehicles2012.columns = ['Número d\\'expedient', 'Descripció tipus de vehicle', 'Descripció model', 'Descripció marca', 'Descripció color', 'Descripció carnet', 'Antiguitat carnet']\n",
    "vehicles2012 = vehicles2012.apply(lambda x: x.str.replace('‚', 'é'), axis=1)\n",
    "vehicles2012 = vehicles2012.apply(lambda x: x.str.replace('Š', 'è'), axis=1)\n",
    "vehicles2012 = vehicles2012.apply(lambda x: x.str.replace('‡', 'ç'), axis=1)\n",
    "vehicles2012 = vehicles2012.apply(lambda x: x.str.replace('¢', 'ó'), axis=1)\n",
    "vehicles2012 = vehicles2012.apply(lambda x: x.str.replace('…', 'à'), axis=1)\n",
    "vehicles2012 = vehicles2012.apply(lambda x: x.str.replace('£', 'ú'), axis=1)"
   ]
  },
  {
   "cell_type": "code",
   "execution_count": 110,
   "metadata": {},
   "outputs": [],
   "source": [
    "accidents2013 = pd.read_csv('accidents/2013.csv', encoding='ANSI')"
   ]
  },
  {
   "cell_type": "code",
   "execution_count": 114,
   "metadata": {},
   "outputs": [],
   "source": [
    "causes2013 = pd.read_csv('causes/2013.csv', encoding = 'ANSI')[['N£mero d\\'expedient', 'Descripci¢ causa mediata']]\n",
    "causes2013.columns = ['Número d\\'expedient', 'Descripció cauda mediata']\n",
    "causes2013['Descripció cauda mediata'] = causes2013['Descripció cauda mediata'].str.replace('‚', 'é')\n",
    "causes2013['Descripció cauda mediata'] = causes2013['Descripció cauda mediata'].str.replace('Š', 'è')\n",
    "causes2013['Descripció cauda mediata'] = causes2013['Descripció cauda mediata'].str.replace('‡', 'ç')\n",
    "causes2013['Descripció cauda mediata'] = causes2013['Descripció cauda mediata'].str.replace('¢', 'ó')\n",
    "causes2013['Descripció cauda mediata'] = causes2013['Descripció cauda mediata'].str.replace('£', 'ú')"
   ]
  }
 ],
 "metadata": {
  "kernelspec": {
   "display_name": "Python 3",
   "language": "python",
   "name": "python3"
  },
  "language_info": {
   "codemirror_mode": {
    "name": "ipython",
    "version": 3
   },
   "file_extension": ".py",
   "mimetype": "text/x-python",
   "name": "python",
   "nbconvert_exporter": "python",
   "pygments_lexer": "ipython3",
   "version": "3.6.8"
  }
 },
 "nbformat": 4,
 "nbformat_minor": 2
}
