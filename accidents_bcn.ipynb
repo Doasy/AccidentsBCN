{
 "cells": [
  {
   "cell_type": "code",
   "execution_count": 148,
   "metadata": {},
   "outputs": [],
   "source": [
    "import pandas as pd\n",
    "import numpy as np\n",
    "import chardet"
   ]
  },
  {
   "cell_type": "code",
   "execution_count": 242,
   "metadata": {},
   "outputs": [],
   "source": [
    "accidents2010 = pd.read_csv('accidents/2010.csv', encoding='ANSI')\n",
    "accidents2010.columns = ['Número d\\'expedient', 'Codi districte', 'Nom districte', 'Codi barri',\n",
    "       'Nom barri', 'Codi carrer', 'Nom carrer', 'Num postal caption',\n",
    "       'Descripció dia setmana', 'Dia setmana', 'Descripció tipus dia',\n",
    "       'NK Any', 'Mes de any', 'Nom mes', 'Dia de mes', 'Hora de dia',\n",
    "       'Descripció torn', 'Descripció causa vianant', 'Número de morts',\n",
    "       'Número de lesionats lleus', 'Número de lesionats greus',\n",
    "       'Número de víctimes', 'Número de vehicles implicats',\n",
    "       'Coordenada UTM (Y)', 'Coordenada UTM (X)']"
   ]
  },
  {
   "cell_type": "code",
   "execution_count": 150,
   "metadata": {
    "scrolled": false
   },
   "outputs": [],
   "source": [
    "causes2010 = pd.read_csv('causes/2010.csv', encoding = 'ANSI')[['N£mero d\\'expedient', 'Descripci¢ causa mediata']]\n",
    "causes2010.columns = ['Número d\\'expedient', 'Descripció causa mediata']\n",
    "causes2010['Descripció causa mediata'] = causes2010['Descripció causa mediata'].str.replace('‚', 'é')\n",
    "causes2010['Descripció causa mediata'] = causes2010['Descripció causa mediata'].str.replace('Š', 'è')\n",
    "causes2010['Descripció causa mediata'] = causes2010['Descripció causa mediata'].str.replace('‡', 'ç')\n",
    "causes2010['Descripció causa mediata'] = causes2010['Descripció causa mediata'].str.replace('¢', 'ó')\n",
    "causes2010['Descripció causa mediata'] = causes2010['Descripció causa mediata'].str.replace('£', 'ú')\n"
   ]
  },
  {
   "cell_type": "code",
   "execution_count": 151,
   "metadata": {},
   "outputs": [],
   "source": [
    "tipus2010 = pd.read_csv('tipus/2010.csv', encoding='ANSI')[['N£mero d\\'expedient', 'Descripci¢ tipus accident']]\n",
    "tipus2010.columns = ['Número d\\'expedient', 'Descripció tipus accident']\n",
    "tipus2010['Descripció tipus accident'] = tipus2010['Descripció tipus accident'].str.replace('‚', 'é')\n",
    "tipus2010['Descripció tipus accident'] = tipus2010['Descripció tipus accident'].str.replace('Š', 'è')\n",
    "tipus2010['Descripció tipus accident'] = tipus2010['Descripció tipus accident'].str.replace('‡', 'ç')\n",
    "tipus2010['Descripció tipus accident'] = tipus2010['Descripció tipus accident'].str.replace('¢', 'ó')\n",
    "tipus2010['Descripció tipus accident'] = tipus2010['Descripció tipus accident'].str.replace('…', 'à')\n",
    "tipus2010['Descripció tipus accident'] = tipus2010['Descripció tipus accident'].str.replace('£', 'ú')\n"
   ]
  },
  {
   "cell_type": "code",
   "execution_count": 152,
   "metadata": {},
   "outputs": [],
   "source": [
    "persones2010 = pd.read_csv('persones/2010.csv', encoding='ANSI')[['Número d\\'expedient','Descripció causa vianant',  'Desc. Tipus vehicle implicat', 'Descripció sexe', 'Descripció tipus persona', 'Edat', 'Descripció victimització']]\n"
   ]
  },
  {
   "cell_type": "code",
   "execution_count": 153,
   "metadata": {},
   "outputs": [],
   "source": [
    "vehicles2010 = pd.read_csv('vehicles/2010.csv', encoding='ANSI')[['Codi d\\'expedient', 'Descripci¢ tipus de vehicle', 'Descripci¢ model', 'Descripci¢ marca', 'Descripci¢ color', 'Descripci¢ carnet', 'Antiguitat carnet']]\n",
    "vehicles2010.columns = ['Número d\\'expedient', 'Descripció tipus de vehicle', 'Descripció model', 'Descripció marca', 'Descripció color', 'Descripció carnet', 'Antiguitat carnet']\n",
    "vehicles2010 = vehicles2010.apply(lambda x: x.str.replace('‚', 'é'), axis=1)\n",
    "vehicles2010 = vehicles2010.apply(lambda x: x.str.replace('Š', 'è'), axis=1)\n",
    "vehicles2010 = vehicles2010.apply(lambda x: x.str.replace('‡', 'ç'), axis=1)\n",
    "vehicles2010 = vehicles2010.apply(lambda x: x.str.replace('¢', 'ó'), axis=1)\n",
    "vehicles2010 = vehicles2010.apply(lambda x: x.str.replace('…', 'à'), axis=1)\n",
    "vehicles2010 = vehicles2010.apply(lambda x: x.str.replace('£', 'ú'), axis=1)\n"
   ]
  },
  {
   "cell_type": "code",
   "execution_count": 241,
   "metadata": {},
   "outputs": [],
   "source": [
    "accidents2011 = pd.read_csv('accidents/2011.csv', encoding='ANSI')\n",
    "accidents2011.columns = ['Número d\\'expedient', 'Codi districte', 'Nom districte', 'Codi barri',\n",
    "       'Nom barri', 'Codi carrer', 'Nom carrer', 'Num postal caption',\n",
    "       'Descripció dia setmana', 'Dia setmana', 'Descripció tipus dia',\n",
    "       'NK Any', 'Mes de any', 'Nom mes', 'Dia de mes', 'Hora de dia',\n",
    "       'Descripció torn', 'Descripció causa vianant', 'Número de morts',\n",
    "       'Número de lesionats lleus', 'Número de lesionats greus',\n",
    "       'Número de víctimes', 'Número de vehicles implicats',\n",
    "       'Coordenada UTM (Y)', 'Coordenada UTM (X)']"
   ]
  },
  {
   "cell_type": "code",
   "execution_count": 155,
   "metadata": {},
   "outputs": [],
   "source": [
    "causes2011 = pd.read_csv('causes/2011.csv', encoding = 'ANSI')[['N£mero d\\'expedient', 'Descripci¢ causa mediata']]\n",
    "causes2011.columns = ['Número d\\'expedient', 'Descripció causa mediata']\n",
    "causes2011['Descripció causa mediata'] = causes2011['Descripció causa mediata'].str.replace('‚', 'é')\n",
    "causes2011['Descripció causa mediata'] = causes2011['Descripció causa mediata'].str.replace('Š', 'è')\n",
    "causes2011['Descripció causa mediata'] = causes2011['Descripció causa mediata'].str.replace('‡', 'ç')\n",
    "causes2011['Descripció causa mediata'] = causes2011['Descripció causa mediata'].str.replace('¢', 'ó')\n",
    "causes2011['Descripció causa mediata'] = causes2011['Descripció causa mediata'].str.replace('£', 'ú')\n"
   ]
  },
  {
   "cell_type": "code",
   "execution_count": 156,
   "metadata": {},
   "outputs": [],
   "source": [
    "tipus2011 = pd.read_csv('tipus/2011.csv', encoding='ANSI')[['N£mero d\\'expedient', 'Descripci¢ tipus accident']]\n",
    "tipus2011.columns = ['Número d\\'expedient', 'Descripció tipus accident']\n",
    "tipus2011['Descripció tipus accident'] = tipus2011['Descripció tipus accident'].str.replace('‚', 'é')\n",
    "tipus2011['Descripció tipus accident'] = tipus2011['Descripció tipus accident'].str.replace('Š', 'è')\n",
    "tipus2011['Descripció tipus accident'] = tipus2011['Descripció tipus accident'].str.replace('‡', 'ç')\n",
    "tipus2011['Descripció tipus accident'] = tipus2011['Descripció tipus accident'].str.replace('¢', 'ó')\n",
    "tipus2011['Descripció tipus accident'] = tipus2011['Descripció tipus accident'].str.replace('…', 'à')\n",
    "tipus2011['Descripció tipus accident'] = tipus2011['Descripció tipus accident'].str.replace('£', 'ú')\n"
   ]
  },
  {
   "cell_type": "code",
   "execution_count": 157,
   "metadata": {},
   "outputs": [],
   "source": [
    "persones2011 = pd.read_csv('persones/2011.csv', encoding='ANSI')[['Número d\\'expedient','Descripció causa vianant',  'Desc. Tipus vehicle implicat', 'Descripció sexe', 'Descripció tipus persona', 'Edat', 'Descripció victimització']]\n"
   ]
  },
  {
   "cell_type": "code",
   "execution_count": 158,
   "metadata": {},
   "outputs": [],
   "source": [
    "vehicles2011 = pd.read_csv('vehicles/2011.csv', encoding='ANSI')[['Codi d\\'expedient', 'Descripci¢ tipus de vehicle', 'Descripci¢ model', 'Descripci¢ marca', 'Descripci¢ color', 'Descripci¢ carnet', 'Antiguitat carnet']]\n",
    "vehicles2011.columns = ['Número d\\'expedient', 'Descripció tipus de vehicle', 'Descripció model', 'Descripció marca', 'Descripció color', 'Descripció carnet', 'Antiguitat carnet']\n",
    "vehicles2011 = vehicles2011.apply(lambda x: x.str.replace('‚', 'é'), axis=1)\n",
    "vehicles2011 = vehicles2011.apply(lambda x: x.str.replace('Š', 'è'), axis=1)\n",
    "vehicles2011 = vehicles2011.apply(lambda x: x.str.replace('‡', 'ç'), axis=1)\n",
    "vehicles2011 = vehicles2011.apply(lambda x: x.str.replace('¢', 'ó'), axis=1)\n",
    "vehicles2011 = vehicles2011.apply(lambda x: x.str.replace('…', 'à'), axis=1)\n",
    "vehicles2011 = vehicles2011.apply(lambda x: x.str.replace('£', 'ú'), axis=1)\n"
   ]
  },
  {
   "cell_type": "code",
   "execution_count": 240,
   "metadata": {},
   "outputs": [],
   "source": [
    "accidents2012 = pd.read_csv('accidents/2012.csv', encoding='ANSI')\n",
    "accidents2012.columns = ['Número d\\'expedient', 'Codi districte', 'Nom districte', 'Codi barri',\n",
    "       'Nom barri', 'Codi carrer', 'Nom carrer', 'Num postal caption',\n",
    "       'Descripció dia setmana', 'Dia setmana', 'Descripció tipus dia',\n",
    "       'NK Any', 'Mes de any', 'Nom mes', 'Dia de mes', 'Hora de dia',\n",
    "       'Descripció torn', 'Descripció causa vianant', 'Número de morts',\n",
    "       'Número de lesionats lleus', 'Número de lesionats greus',\n",
    "       'Número de víctimes', 'Número de vehicles implicats',\n",
    "       'Coordenada UTM (Y)', 'Coordenada UTM (X)']"
   ]
  },
  {
   "cell_type": "code",
   "execution_count": 160,
   "metadata": {},
   "outputs": [],
   "source": [
    "causes2012 = pd.read_csv('causes/2012.csv', encoding = 'ANSI')[['N£mero d\\'expedient', 'Descripci¢ causa mediata']]\n",
    "causes2012.columns = ['Número d\\'expedient', 'Descripció causa mediata']\n",
    "causes2012['Descripció causa mediata'] = causes2012['Descripció causa mediata'].str.replace('‚', 'é')\n",
    "causes2012['Descripció causa mediata'] = causes2012['Descripció causa mediata'].str.replace('Š', 'è')\n",
    "causes2012['Descripció causa mediata'] = causes2012['Descripció causa mediata'].str.replace('‡', 'ç')\n",
    "causes2012['Descripció causa mediata'] = causes2012['Descripció causa mediata'].str.replace('¢', 'ó')\n",
    "causes2012['Descripció causa mediata'] = causes2012['Descripció causa mediata'].str.replace('£', 'ú')\n"
   ]
  },
  {
   "cell_type": "code",
   "execution_count": 161,
   "metadata": {},
   "outputs": [],
   "source": [
    "tipus2012 = pd.read_csv('tipus/2012.csv', encoding='ANSI')[['N£mero d\\'expedient', 'Descripci¢ tipus accident']]\n",
    "tipus2012.columns = ['Número d\\'expedient', 'Descripció tipus accident']\n",
    "tipus2012['Descripció tipus accident'] = tipus2012['Descripció tipus accident'].str.replace('‚', 'é')\n",
    "tipus2012['Descripció tipus accident'] = tipus2012['Descripció tipus accident'].str.replace('Š', 'è')\n",
    "tipus2012['Descripció tipus accident'] = tipus2012['Descripció tipus accident'].str.replace('‡', 'ç')\n",
    "tipus2012['Descripció tipus accident'] = tipus2012['Descripció tipus accident'].str.replace('¢', 'ó')\n",
    "tipus2012['Descripció tipus accident'] = tipus2012['Descripció tipus accident'].str.replace('…', 'à')\n",
    "tipus2012['Descripció tipus accident'] = tipus2012['Descripció tipus accident'].str.replace('£', 'ú')\n"
   ]
  },
  {
   "cell_type": "code",
   "execution_count": 162,
   "metadata": {},
   "outputs": [],
   "source": [
    "persones2012 = pd.read_csv('persones/2012.csv', encoding='ANSI')[['Número d\\'expedient','Descripció causa vianant',  'Desc. Tipus vehicle implicat', 'Descripció sexe', 'Descripció tipus persona', 'Edat', 'Descripció victimització']]\n"
   ]
  },
  {
   "cell_type": "code",
   "execution_count": 163,
   "metadata": {
    "scrolled": false
   },
   "outputs": [],
   "source": [
    "vehicles2012 = pd.read_csv('vehicles/2012.csv', encoding='ANSI')[['Codi d\\'expedient', 'Descripci¢ tipus de vehicle', 'Descripci¢ model', 'Descripci¢ marca', 'Descripci¢ color', 'Descripci¢ carnet', 'Antiguitat carnet']]\n",
    "vehicles2012.columns = ['Número d\\'expedient', 'Descripció tipus de vehicle', 'Descripció model', 'Descripció marca', 'Descripció color', 'Descripció carnet', 'Antiguitat carnet']\n",
    "vehicles2012 = vehicles2012.apply(lambda x: x.str.replace('‚', 'é'), axis=1)\n",
    "vehicles2012 = vehicles2012.apply(lambda x: x.str.replace('Š', 'è'), axis=1)\n",
    "vehicles2012 = vehicles2012.apply(lambda x: x.str.replace('‡', 'ç'), axis=1)\n",
    "vehicles2012 = vehicles2012.apply(lambda x: x.str.replace('¢', 'ó'), axis=1)\n",
    "vehicles2012 = vehicles2012.apply(lambda x: x.str.replace('…', 'à'), axis=1)\n",
    "vehicles2012 = vehicles2012.apply(lambda x: x.str.replace('£', 'ú'), axis=1)"
   ]
  },
  {
   "cell_type": "code",
   "execution_count": 239,
   "metadata": {},
   "outputs": [],
   "source": [
    "accidents2013 = pd.read_csv('accidents/2013.csv', encoding='ANSI')\n",
    "accidents2013.columns = ['Número d\\'expedient', 'Codi districte', 'Nom districte', 'Codi barri',\n",
    "       'Nom barri', 'Codi carrer', 'Nom carrer', 'Num postal caption',\n",
    "       'Descripció dia setmana', 'Dia setmana', 'Descripció tipus dia',\n",
    "       'NK Any', 'Mes de any', 'Nom mes', 'Dia de mes', 'Hora de dia',\n",
    "       'Descripció torn', 'Descripció causa vianant', 'Número de morts',\n",
    "       'Número de lesionats lleus', 'Número de lesionats greus',\n",
    "       'Número de víctimes', 'Número de vehicles implicats',\n",
    "       'Coordenada UTM (Y)', 'Coordenada UTM (X)']"
   ]
  },
  {
   "cell_type": "code",
   "execution_count": 165,
   "metadata": {},
   "outputs": [],
   "source": [
    "causes2013 = pd.read_csv('causes/2013.csv', encoding = 'ANSI')[['N£mero d\\'expedient', 'Descripci¢ causa mediata']]\n",
    "causes2013.columns = ['Número d\\'expedient', 'Descripció causa mediata']\n",
    "causes2013['Descripció causa mediata'] = causes2013['Descripció causa mediata'].str.replace('‚', 'é')\n",
    "causes2013['Descripció causa mediata'] = causes2013['Descripció causa mediata'].str.replace('Š', 'è')\n",
    "causes2013['Descripció causa mediata'] = causes2013['Descripció causa mediata'].str.replace('‡', 'ç')\n",
    "causes2013['Descripció causa mediata'] = causes2013['Descripció causa mediata'].str.replace('¢', 'ó')\n",
    "causes2013['Descripció causa mediata'] = causes2013['Descripció causa mediata'].str.replace('£', 'ú')"
   ]
  },
  {
   "cell_type": "code",
   "execution_count": 166,
   "metadata": {},
   "outputs": [],
   "source": [
    "tipus2013 = pd.read_csv('tipus/2013.csv', encoding='ANSI')[['N£mero d\\'expedient', 'Descripci¢ tipus accident']]\n",
    "tipus2013.columns = ['Número d\\'expedient', 'Descripció tipus accident']\n",
    "tipus2013['Descripció tipus accident'] = tipus2013['Descripció tipus accident'].str.replace('‚', 'é')\n",
    "tipus2013['Descripció tipus accident'] = tipus2013['Descripció tipus accident'].str.replace('Š', 'è')\n",
    "tipus2013['Descripció tipus accident'] = tipus2013['Descripció tipus accident'].str.replace('‡', 'ç')\n",
    "tipus2013['Descripció tipus accident'] = tipus2013['Descripció tipus accident'].str.replace('¢', 'ó')\n",
    "tipus2013['Descripció tipus accident'] = tipus2013['Descripció tipus accident'].str.replace('…', 'à')\n",
    "tipus2013['Descripció tipus accident'] = tipus2013['Descripció tipus accident'].str.replace('£', 'ú')\n"
   ]
  },
  {
   "cell_type": "code",
   "execution_count": 167,
   "metadata": {},
   "outputs": [],
   "source": [
    "persones2013 = pd.read_csv('persones/2013.csv', encoding='ANSI')[['Número d\\'expedient','Descripció causa vianant',  'Desc. Tipus vehicle implicat', 'Descripció sexe', 'Descripció tipus persona', 'Edat', 'Descripció victimització']]\n"
   ]
  },
  {
   "cell_type": "code",
   "execution_count": 168,
   "metadata": {},
   "outputs": [],
   "source": [
    "vehicles2013 = pd.read_csv('vehicles/2013.csv', encoding='ANSI')[['Codi d\\'expedient', 'Descripci¢ tipus de vehicle', 'Descripci¢ model', 'Descripci¢ marca', 'Descripci¢ color', 'Descripci¢ carnet', 'Antiguitat carnet']]\n",
    "vehicles2013.columns = ['Número d\\'expedient', 'Descripció tipus de vehicle', 'Descripció model', 'Descripció marca', 'Descripció color', 'Descripció carnet', 'Antiguitat carnet']\n",
    "vehicles2013 = vehicles2013.apply(lambda x: x.str.replace('‚', 'é'), axis=1)\n",
    "vehicles2013 = vehicles2013.apply(lambda x: x.str.replace('Š', 'è'), axis=1)\n",
    "vehicles2013 = vehicles2013.apply(lambda x: x.str.replace('‡', 'ç'), axis=1)\n",
    "vehicles2013 = vehicles2013.apply(lambda x: x.str.replace('¢', 'ó'), axis=1)\n",
    "vehicles2013 = vehicles2013.apply(lambda x: x.str.replace('…', 'à'), axis=1)\n",
    "vehicles2013 = vehicles2013.apply(lambda x: x.str.replace('£', 'ú'), axis=1)"
   ]
  },
  {
   "cell_type": "code",
   "execution_count": 237,
   "metadata": {},
   "outputs": [],
   "source": [
    "accidents2014 = pd.read_csv('accidents/2014.csv', encoding='ANSI')\n",
    "accidents2014.columns = ['Número d\\'expedient', 'Codi districte', 'Nom districte', 'Codi barri',\n",
    "       'Nom barri', 'Codi carrer', 'Nom carrer', 'Num postal caption',\n",
    "       'Descripció dia setmana', 'Dia setmana', 'Descripció tipus dia',\n",
    "       'NK Any', 'Mes de any', 'Nom mes', 'Dia de mes', 'Hora de dia',\n",
    "       'Descripció torn', 'Descripció causa vianant', 'Número de morts',\n",
    "       'Número de lesionats lleus', 'Número de lesionats greus',\n",
    "       'Número de víctimes', 'Número de vehicles implicats',\n",
    "       'Coordenada UTM (Y)', 'Coordenada UTM (X)']"
   ]
  },
  {
   "cell_type": "code",
   "execution_count": 170,
   "metadata": {},
   "outputs": [],
   "source": [
    "causes2014 = pd.read_csv('causes/2014.csv', encoding = 'ANSI')[['N£mero d\\'expedient', 'Descripci¢ causa mediata']]\n",
    "causes2014.columns = ['Número d\\'expedient', 'Descripció causa mediata']\n",
    "causes2014['Descripció causa mediata'] = causes2014['Descripció causa mediata'].str.replace('‚', 'é')\n",
    "causes2014['Descripció causa mediata'] = causes2014['Descripció causa mediata'].str.replace('Š', 'è')\n",
    "causes2014['Descripció causa mediata'] = causes2014['Descripció causa mediata'].str.replace('‡', 'ç')\n",
    "causes2014['Descripció causa mediata'] = causes2014['Descripció causa mediata'].str.replace('¢', 'ó')\n",
    "causes2014['Descripció causa mediata'] = causes2014['Descripció causa mediata'].str.replace('£', 'ú')"
   ]
  },
  {
   "cell_type": "code",
   "execution_count": 171,
   "metadata": {},
   "outputs": [],
   "source": [
    "tipus2014 = pd.read_csv('tipus/2014.csv', encoding='ANSI')[['N£mero d\\'expedient', 'Descripci¢ tipus accident']]\n",
    "tipus2014.columns = ['Número d\\'expedient', 'Descripció tipus accident']\n",
    "tipus2014['Descripció tipus accident'] = tipus2014['Descripció tipus accident'].str.replace('‚', 'é')\n",
    "tipus2014['Descripció tipus accident'] = tipus2014['Descripció tipus accident'].str.replace('Š', 'è')\n",
    "tipus2014['Descripció tipus accident'] = tipus2014['Descripció tipus accident'].str.replace('‡', 'ç')\n",
    "tipus2014['Descripció tipus accident'] = tipus2014['Descripció tipus accident'].str.replace('¢', 'ó')\n",
    "tipus2014['Descripció tipus accident'] = tipus2014['Descripció tipus accident'].str.replace('…', 'à')\n",
    "tipus2014['Descripció tipus accident'] = tipus2014['Descripció tipus accident'].str.replace('£', 'ú')"
   ]
  },
  {
   "cell_type": "code",
   "execution_count": 172,
   "metadata": {},
   "outputs": [],
   "source": [
    "persones2014 = pd.read_csv('persones/2014.csv', encoding='ANSI')[['N£mero d\\'expedient','Descripci¢ causa vianant',  'Desc. Tipus vehicle implicat', 'Descripci¢ sexe', 'Descripci¢ tipus persona', 'Edat', 'Descripci¢ victimitzaci¢']]\n",
    "persones2014.columns = ['Número d\\'expedient','Descripció causa vianant',  'Desc. Tipus vehicle implicat', 'Descripció sexe', 'Descripció tipus persona', 'Edat', 'Descripció victimització']\n",
    "persones2014 = persones2014.apply(lambda x: x.str.replace('‚', 'é'), axis=1)\n",
    "persones2014 = persones2014.apply(lambda x: x.str.replace('Š', 'è'), axis=1)\n",
    "persones2014 = persones2014.apply(lambda x: x.str.replace('‡', 'ç'), axis=1)\n",
    "persones2014 = persones2014.apply(lambda x: x.str.replace('¢', 'ó'), axis=1)\n",
    "persones2014 = persones2014.apply(lambda x: x.str.replace('…', 'à'), axis=1)\n",
    "persones2014 = persones2014.apply(lambda x: x.str.replace('£', 'ú'), axis=1)"
   ]
  },
  {
   "cell_type": "code",
   "execution_count": 188,
   "metadata": {},
   "outputs": [],
   "source": [
    "vehicles2014 = pd.read_csv('vehicles/2014.csv', encoding='ANSI')[['Codi d\\'expedient', 'Descripci¢ tipus de vehicle', 'Descripci¢ model', 'Descripci¢ marca', 'Descripci¢ color', 'Descripci¢ carnet', 'Antiguitat carnet']]\n",
    "vehicles2014.columns = ['Número d\\'expedient', 'Descripció tipus de vehicle', 'Descripció model', 'Descripció marca', 'Descripció color', 'Descripció carnet', 'Antiguitat carnet']\n",
    "vehicles2014 = vehicles2014.apply(lambda x: x.str.replace('‚', 'é'), axis=1)\n",
    "vehicles2014 = vehicles2014.apply(lambda x: x.str.replace('Š', 'è'), axis=1)\n",
    "vehicles2014 = vehicles2014.apply(lambda x: x.str.replace('‡', 'ç'), axis=1)\n",
    "vehicles2014 = vehicles2014.apply(lambda x: x.str.replace('¢', 'ó'), axis=1)\n",
    "vehicles2014 = vehicles2014.apply(lambda x: x.str.replace('…', 'à'), axis=1)\n",
    "vehicles2014 = vehicles2014.apply(lambda x: x.str.replace('£', 'ú'), axis=1)"
   ]
  },
  {
   "cell_type": "code",
   "execution_count": 238,
   "metadata": {
    "scrolled": false
   },
   "outputs": [],
   "source": [
    "accidents2015 = pd.read_csv('accidents/2015.csv', encoding='ANSI', delimiter=';')\n",
    "accidents2015.columns = ['Número d\\'expedient', 'Codi districte', 'Nom districte', 'Codi barri',\n",
    "       'Nom barri', 'Codi carrer', 'Nom carrer', 'Num postal caption',\n",
    "       'Descripció dia setmana', 'Dia setmana', 'Descripció tipus dia',\n",
    "       'NK Any', 'Mes de any', 'Nom mes', 'Dia de mes', 'Hora de dia',\n",
    "       'Descripció torn', 'Descripció causa vianant', 'Número de morts',\n",
    "       'Número de lesionats lleus', 'Número de lesionats greus',\n",
    "       'Número de víctimes', 'Número de vehicles implicats',\n",
    "       'Coordenada UTM (Y)', 'Coordenada UTM (X)']"
   ]
  },
  {
   "cell_type": "code",
   "execution_count": 179,
   "metadata": {},
   "outputs": [],
   "source": [
    "causes2015 = pd.read_csv('causes/2015.csv', encoding = 'ANSI')[['Número d\\'expedient', 'Descripció causa mediata']]\n"
   ]
  },
  {
   "cell_type": "code",
   "execution_count": 178,
   "metadata": {},
   "outputs": [],
   "source": [
    "tipus2015 = pd.read_csv('tipus/2015.csv', encoding='ANSI')[['Número d\\'expedient', 'Descripció tipus accident']]\n"
   ]
  },
  {
   "cell_type": "code",
   "execution_count": 183,
   "metadata": {},
   "outputs": [],
   "source": [
    "persones2015 = pd.read_csv('persones/2015.csv', encoding='ANSI')[['Número d\\'expedient','Descripció causa vianant',  'Desc. Tipus vehicle implicat', 'Descripció sexe', 'Descripció tipus persona', 'Edat', 'Descripció victimització']]\n"
   ]
  },
  {
   "cell_type": "code",
   "execution_count": 247,
   "metadata": {},
   "outputs": [],
   "source": [
    "vehicles2015 = pd.read_csv('vehicles/2015.csv', encoding='ANSI')[['Codi d\\'expedient', 'Descripció tipus de vehicle', 'Descripció model', 'Descripció marca', 'Descripció color', 'Descripció carnet', 'Antiguitat carnet']]\n",
    "vehicles2015.columns = ['Número d\\'expedient', 'Descripció tipus de vehicle', 'Descripció model', 'Descripció marca', 'Descripció color', 'Descripció carnet', 'Antiguitat carnet']\n"
   ]
  },
  {
   "cell_type": "code",
   "execution_count": 234,
   "metadata": {},
   "outputs": [],
   "source": [
    "accidents2016 = pd.read_csv('accidents/2016.csv')[['Numero_expedient', 'Codi_districte', 'Nom_districte', 'Codi_barri', 'Nom_barri', 'Codi_carrer', 'Nom_carrer', 'Num_postal', 'Descripcio_dia_setmana', 'Dia_setmana', 'Descripcio_tipus_dia', 'Any', 'Mes_any', 'Nom_mes', 'Dia_mes', 'Hora_dia', 'Descripcio_torn', 'Descripcio_causa_vianant', 'Numero_morts', 'Numero_lesionats_lleus', 'Numero_lesionats_greus', 'Numero_victimes', 'Numero_vehicles_implicats', 'Coordenada_UTM_X', 'Coordenada_UTM_Y']]\n",
    "accidents2016.columns = ['Número d\\'expedient', 'Codi districte', 'Nom districte', 'Codi barri',\n",
    "       'Nom barri', 'Codi carrer', 'Nom carrer', 'Num postal caption',\n",
    "       'Descripció dia setmana', 'Dia setmana', 'Descripció tipus dia',\n",
    "       'NK Any', 'Mes de any', 'Nom mes', 'Dia de mes', 'Hora de dia',\n",
    "       'Descripció torn', 'Descripció causa vianant', 'Número de morts',\n",
    "       'Número de lesionats lleus', 'Número de lesionats greus',\n",
    "       'Número de víctimes', 'Número de vehicles implicats',\n",
    "       'Coordenada UTM (Y)', 'Coordenada UTM (X)']"
   ]
  },
  {
   "cell_type": "code",
   "execution_count": 204,
   "metadata": {},
   "outputs": [],
   "source": [
    "causes2016 = pd.read_csv('causes/2016.csv')[['Numero_expedient', 'Descripcio_causa_mediata']]\n",
    "causes2016.columns = ['Número d\\'expedient', 'Descripció causa mediata']\n"
   ]
  },
  {
   "cell_type": "code",
   "execution_count": 208,
   "metadata": {},
   "outputs": [],
   "source": [
    "tipus2016 = pd.read_csv('tipus/2016.csv')[['Numero_expedient', 'Descripcio_tipus_accident']]\n",
    "tipus2016.columns = ['Número d\\'expedient', 'Descripció tipus accident']"
   ]
  },
  {
   "cell_type": "code",
   "execution_count": 257,
   "metadata": {},
   "outputs": [],
   "source": [
    "persones2016 = pd.read_csv('persones/2016.csv')[['Numero_expedient', 'Descripcio_causa_vianant', 'Desc_Tipus_vehicle_implicat',\n",
    "       'Descripcio_sexe', 'Descripcio_tipus_persona', 'Edat', 'Descripcio_victimitzacio']]\n",
    "persones2016.columns= ['Número d\\'expedient','Descripció causa vianant',  'Desc. Tipus vehicle implicat', 'Descripció sexe', 'Descripció tipus persona', 'Edat', 'Descripció victimització']"
   ]
  },
  {
   "cell_type": "code",
   "execution_count": 254,
   "metadata": {},
   "outputs": [],
   "source": [
    "vehicles2016 = pd.read_csv('vehicles/2016.csv')[['Codi_expedient', \n",
    "       'Descripcio_tipus_vehicle', 'Descripcio_model', 'Descripcio_marca',\n",
    "       'Descripcio_color', 'Descripcio_carnet', 'Antiguitat_carnet']]\n",
    "vehicles2016.columns = ['Número d\\'expedient', 'Descripció tipus de vehicle', 'Descripció model', 'Descripció marca', 'Descripció color', 'Descripció carnet', 'Antiguitat carnet']\n"
   ]
  },
  {
   "cell_type": "code",
   "execution_count": 235,
   "metadata": {},
   "outputs": [],
   "source": [
    "accidents2017 = pd.read_csv('accidents/2017.csv')[['Numero_expedient', 'Codi_districte', 'Nom_districte', 'Codi_barri', 'Nom_barri', 'Codi_carrer', 'Nom_carrer', 'Num_postal', 'Descripcio_dia_setmana', 'Dia_setmana', 'Descripcio_tipus_dia', 'Any', 'Mes_any', 'Nom_mes', 'Dia_mes', 'Hora_dia', 'Descripcio_torn', 'Descripcio_causa_vianant', 'Numero_morts', 'Numero_lesionats_lleus', 'Numero_lesionats_greus', 'Numero_victimes', 'Numero_vehicles_implicats', 'Coordenada_UTM_X', 'Coordenada_UTM_Y']]\n",
    "accidents2017.columns = ['Número d\\'expedient', 'Codi districte', 'Nom districte', 'Codi barri',\n",
    "       'Nom barri', 'Codi carrer', 'Nom carrer', 'Num postal caption',\n",
    "       'Descripció dia setmana', 'Dia setmana', 'Descripció tipus dia',\n",
    "       'NK Any', 'Mes de any', 'Nom mes', 'Dia de mes', 'Hora de dia',\n",
    "       'Descripció torn', 'Descripció causa vianant', 'Número de morts',\n",
    "       'Número de lesionats lleus', 'Número de lesionats greus',\n",
    "       'Número de víctimes', 'Número de vehicles implicats',\n",
    "       'Coordenada UTM (Y)', 'Coordenada UTM (X)']"
   ]
  },
  {
   "cell_type": "code",
   "execution_count": 243,
   "metadata": {},
   "outputs": [],
   "source": [
    "causes2017 = pd.read_csv('causes/2017.csv')[['Numero_expedient', 'Descripcio_causa_mediata']]\n",
    "causes2017.columns = ['Número d\\'expedient', 'Descripció causa mediata']\n"
   ]
  },
  {
   "cell_type": "code",
   "execution_count": 244,
   "metadata": {},
   "outputs": [],
   "source": [
    "tipus2017 = pd.read_csv('tipus/2017.csv')[['Numero_expedient', 'Descripcio_tipus_accident']]\n",
    "tipus2017.columns = ['Número d\\'expedient', 'Descripció tipus accident']"
   ]
  },
  {
   "cell_type": "code",
   "execution_count": 259,
   "metadata": {},
   "outputs": [],
   "source": [
    "persones2017 = pd.read_csv('persones/2017.csv')[['Numero_expedient', 'Descripcio_causa_vianant', 'Desc_Tipus_vehicle_implicat',\n",
    "       'Descripcio_sexe', 'Edat', 'Descripcio_tipus_persona', 'Descripcio_victimitzacio']]\n",
    "persones2017.columns= ['Número d\\'expedient','Descripció causa vianant',  'Desc. Tipus vehicle implicat', 'Descripció sexe', 'Descripció tipus persona', 'Edat', 'Descripció victimització']"
   ]
  },
  {
   "cell_type": "code",
   "execution_count": 260,
   "metadata": {},
   "outputs": [],
   "source": [
    "vehicles2017 = pd.read_csv('vehicles/2017.csv')[['Codi_expedient', \n",
    "       'Descripcio_tipus_vehicle', 'Descripcio_model', 'Descripcio_marca',\n",
    "       'Descripcio_color', 'Descripcio_carnet', 'Antiguitat_carnet']]\n",
    "vehicles2017.columns = ['Número d\\'expedient', 'Descripció tipus de vehicle', 'Descripció model', 'Descripció marca', 'Descripció color', 'Descripció carnet', 'Antiguitat carnet']\n"
   ]
  },
  {
   "cell_type": "code",
   "execution_count": 268,
   "metadata": {},
   "outputs": [],
   "source": [
    "accidents2018 = pd.read_csv('accidents/2018.csv')[['Numero_expedient', 'Codi_districte', 'Nom_districte', 'Codi_barri', 'Nom_barri', 'Codi_carrer', 'Nom_carrer', 'Num_postal ', 'Descripcio_dia_setmana', 'Dia_setmana', 'Descripcio_tipus_dia', 'Any', 'Mes_any', 'Nom_mes', 'Dia_mes', 'Hora_dia', 'Descripcio_torn', 'Descripcio_causa_vianant', 'Numero_morts', 'Numero_lesionats_lleus', 'Numero_lesionats_greus', 'Numero_victimes', 'Numero_vehicles_implicats', 'Coordenada_UTM_X', 'Coordenada_UTM_Y']]\n",
    "accidents2018.columns = ['Número d\\'expedient', 'Codi districte', 'Nom districte', 'Codi barri',\n",
    "       'Nom barri', 'Codi carrer', 'Nom carrer', 'Num postal caption',\n",
    "       'Descripció dia setmana', 'Dia setmana', 'Descripció tipus dia',\n",
    "       'NK Any', 'Mes de any', 'Nom mes', 'Dia de mes', 'Hora de dia',\n",
    "       'Descripció torn', 'Descripció causa vianant', 'Número de morts',\n",
    "       'Número de lesionats lleus', 'Número de lesionats greus',\n",
    "       'Número de víctimes', 'Número de vehicles implicats',\n",
    "       'Coordenada UTM (Y)', 'Coordenada UTM (X)']"
   ]
  },
  {
   "cell_type": "code",
   "execution_count": 269,
   "metadata": {},
   "outputs": [],
   "source": [
    "causes2018 = pd.read_csv('causes/2018.csv')[['Numero_expedient', 'Descripcio_causa_mediata']]\n",
    "causes2018.columns = ['Número d\\'expedient', 'Descripció causa mediata']"
   ]
  },
  {
   "cell_type": "code",
   "execution_count": 270,
   "metadata": {},
   "outputs": [],
   "source": [
    "tipus2018 = pd.read_csv('tipus/2018.csv')[['Numero_expedient', 'Descripcio_tipus_accident']]\n",
    "tipus2018.columns = ['Número d\\'expedient', 'Descripció tipus accident']"
   ]
  },
  {
   "cell_type": "code",
   "execution_count": 271,
   "metadata": {},
   "outputs": [],
   "source": [
    "persones2018 = pd.read_csv('persones/2018.csv')[['Numero_expedient', 'Descripcio_causa_vianant', 'Desc_Tipus_vehicle_implicat',\n",
    "       'Descripcio_sexe', 'Edat', 'Descripcio_tipus_persona', 'Descripcio_victimitzacio']]\n",
    "persones2018.columns= ['Número d\\'expedient','Descripció causa vianant',  'Desc. Tipus vehicle implicat', 'Descripció sexe', 'Descripció tipus persona', 'Edat', 'Descripció victimització']"
   ]
  },
  {
   "cell_type": "code",
   "execution_count": 272,
   "metadata": {},
   "outputs": [],
   "source": [
    "vehicles2018 = pd.read_csv('vehicles/2018.csv')[['Codi_expedient', \n",
    "       'Descripcio_tipus_vehicle', 'Descripcio_model', 'Descripcio_marca',\n",
    "       'Descripcio_color', 'Descripcio_carnet', 'Antiguitat_carnet']]\n",
    "vehicles2018.columns = ['Número d\\'expedient', 'Descripció tipus de vehicle', 'Descripció model', 'Descripció marca', 'Descripció color', 'Descripció carnet', 'Antiguitat carnet']\n"
   ]
  }
 ],
 "metadata": {
  "kernelspec": {
   "display_name": "Python 3",
   "language": "python",
   "name": "python3"
  },
  "language_info": {
   "codemirror_mode": {
    "name": "ipython",
    "version": 3
   },
   "file_extension": ".py",
   "mimetype": "text/x-python",
   "name": "python",
   "nbconvert_exporter": "python",
   "pygments_lexer": "ipython3",
   "version": "3.6.8"
  }
 },
 "nbformat": 4,
 "nbformat_minor": 2
}
