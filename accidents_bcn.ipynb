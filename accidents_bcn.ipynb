{
 "cells": [
  {
   "cell_type": "code",
   "execution_count": 422,
   "metadata": {},
   "outputs": [],
   "source": [
    "import pandas as pd\n",
    "import numpy as np\n",
    "import chardet\n",
    "import os"
   ]
  },
  {
   "cell_type": "code",
   "execution_count": 423,
   "metadata": {},
   "outputs": [],
   "source": [
    "if not os.path.exists('clean_data'):\n",
    "    os.mkdir('clean_data')\n",
    "for year in range(2010,2019):\n",
    "    if not os.path.exists('clean_data/'+str(year)):\n",
    "        os.mkdir('clean_data/'+str(year))"
   ]
  },
  {
   "cell_type": "code",
   "execution_count": 424,
   "metadata": {},
   "outputs": [],
   "source": [
    "accidents = []\n",
    "causes = []\n",
    "tipus = []\n",
    "persones = []\n",
    "vehicles = []"
   ]
  },
  {
   "cell_type": "code",
   "execution_count": 425,
   "metadata": {},
   "outputs": [],
   "source": [
    "accidents2010 = pd.read_csv('data/accidents/2010.csv', encoding='ANSI')\n",
    "accidents2010.columns = ['Número d\\'expedient', 'Codi districte', 'Nom districte', 'Codi barri',\n",
    "       'Nom barri', 'Codi carrer', 'Nom carrer', 'Num postal caption',\n",
    "       'Descripció dia setmana', 'Dia setmana', 'Descripció tipus dia',\n",
    "       'NK Any', 'Mes de any', 'Nom mes', 'Dia de mes', 'Hora de dia',\n",
    "       'Descripció torn', 'Descripció causa vianant', 'Número de morts',\n",
    "       'Número de lesionats lleus', 'Número de lesionats greus',\n",
    "       'Número de víctimes', 'Número de vehicles implicats',\n",
    "       'Coordenada UTM (Y)', 'Coordenada UTM (X)']\n",
    "accidents.append(accidents2010)"
   ]
  },
  {
   "cell_type": "code",
   "execution_count": 426,
   "metadata": {
    "scrolled": false
   },
   "outputs": [],
   "source": [
    "causes2010 = pd.read_csv('data/causes/2010.csv', encoding = 'ANSI')[['N£mero d\\'expedient', 'Descripci¢ causa mediata']]\n",
    "causes2010.columns = ['Número d\\'expedient', 'Descripció causa mediata']\n",
    "causes2010['Descripció causa mediata'] = causes2010['Descripció causa mediata'].str.replace('‚', 'é')\n",
    "causes2010['Descripció causa mediata'] = causes2010['Descripció causa mediata'].str.replace('Š', 'è')\n",
    "causes2010['Descripció causa mediata'] = causes2010['Descripció causa mediata'].str.replace('‡', 'ç')\n",
    "causes2010['Descripció causa mediata'] = causes2010['Descripció causa mediata'].str.replace('¢', 'ó')\n",
    "causes2010['Descripció causa mediata'] = causes2010['Descripció causa mediata'].str.replace('£', 'ú')\n",
    "causes.append(causes2010)"
   ]
  },
  {
   "cell_type": "code",
   "execution_count": 427,
   "metadata": {},
   "outputs": [],
   "source": [
    "tipus2010 = pd.read_csv('data/tipus/2010.csv', encoding='ANSI')[['N£mero d\\'expedient', 'Descripci¢ tipus accident']]\n",
    "tipus2010.columns = ['Número d\\'expedient', 'Descripció tipus accident']\n",
    "tipus2010['Descripció tipus accident'] = tipus2010['Descripció tipus accident'].str.replace('‚', 'é')\n",
    "tipus2010['Descripció tipus accident'] = tipus2010['Descripció tipus accident'].str.replace('Š', 'è')\n",
    "tipus2010['Descripció tipus accident'] = tipus2010['Descripció tipus accident'].str.replace('‡', 'ç')\n",
    "tipus2010['Descripció tipus accident'] = tipus2010['Descripció tipus accident'].str.replace('¢', 'ó')\n",
    "tipus2010['Descripció tipus accident'] = tipus2010['Descripció tipus accident'].str.replace('…', 'à')\n",
    "tipus2010['Descripció tipus accident'] = tipus2010['Descripció tipus accident'].str.replace('£', 'ú')\n",
    "tipus.append(tipus2010)"
   ]
  },
  {
   "cell_type": "code",
   "execution_count": 428,
   "metadata": {},
   "outputs": [],
   "source": [
    "persones2010 = pd.read_csv('data/persones/2010.csv', encoding='ANSI')[['Número d\\'expedient','Descripció causa vianant',  'Desc. Tipus vehicle implicat', 'Descripció sexe', 'Descripció tipus persona', 'Edat', 'Descripció victimització']]\n",
    "persones.append(persones2010)"
   ]
  },
  {
   "cell_type": "code",
   "execution_count": 429,
   "metadata": {},
   "outputs": [],
   "source": [
    "vehicles2010 = pd.read_csv('data/vehicles/2010.csv', encoding='ANSI')[['Codi d\\'expedient', 'Descripci¢ tipus de vehicle', 'Descripci¢ model', 'Descripci¢ marca', 'Descripci¢ color', 'Descripci¢ carnet', 'Antiguitat carnet']]\n",
    "vehicles2010.columns = ['Número d\\'expedient', 'Descripció tipus de vehicle', 'Descripció model', 'Descripció marca', 'Descripció color', 'Descripció carnet', 'Antiguitat carnet']\n",
    "vehicles2010 = vehicles2010.apply(lambda x: x.str.replace('‚', 'é'), axis=1)\n",
    "vehicles2010 = vehicles2010.apply(lambda x: x.str.replace('Š', 'è'), axis=1)\n",
    "vehicles2010 = vehicles2010.apply(lambda x: x.str.replace('‡', 'ç'), axis=1)\n",
    "vehicles2010 = vehicles2010.apply(lambda x: x.str.replace('¢', 'ó'), axis=1)\n",
    "vehicles2010 = vehicles2010.apply(lambda x: x.str.replace('…', 'à'), axis=1)\n",
    "vehicles2010 = vehicles2010.apply(lambda x: x.str.replace('£', 'ú'), axis=1)\n",
    "vehicles.append(vehicles2010)"
   ]
  },
  {
   "cell_type": "code",
   "execution_count": 430,
   "metadata": {},
   "outputs": [],
   "source": [
    "accidents2011 = pd.read_csv('data/accidents/2011.csv', encoding='ANSI')\n",
    "accidents2011.columns = ['Número d\\'expedient', 'Codi districte', 'Nom districte', 'Codi barri',\n",
    "       'Nom barri', 'Codi carrer', 'Nom carrer', 'Num postal caption',\n",
    "       'Descripció dia setmana', 'Dia setmana', 'Descripció tipus dia',\n",
    "       'NK Any', 'Mes de any', 'Nom mes', 'Dia de mes', 'Hora de dia',\n",
    "       'Descripció torn', 'Descripció causa vianant', 'Número de morts',\n",
    "       'Número de lesionats lleus', 'Número de lesionats greus',\n",
    "       'Número de víctimes', 'Número de vehicles implicats',\n",
    "       'Coordenada UTM (Y)', 'Coordenada UTM (X)']\n",
    "accidents.append(accidents2011)"
   ]
  },
  {
   "cell_type": "code",
   "execution_count": 431,
   "metadata": {},
   "outputs": [],
   "source": [
    "causes2011 = pd.read_csv('data/causes/2011.csv', encoding = 'ANSI')[['N£mero d\\'expedient', 'Descripci¢ causa mediata']]\n",
    "causes2011.columns = ['Número d\\'expedient', 'Descripció causa mediata']\n",
    "causes2011['Descripció causa mediata'] = causes2011['Descripció causa mediata'].str.replace('‚', 'é')\n",
    "causes2011['Descripció causa mediata'] = causes2011['Descripció causa mediata'].str.replace('Š', 'è')\n",
    "causes2011['Descripció causa mediata'] = causes2011['Descripció causa mediata'].str.replace('‡', 'ç')\n",
    "causes2011['Descripció causa mediata'] = causes2011['Descripció causa mediata'].str.replace('¢', 'ó')\n",
    "causes2011['Descripció causa mediata'] = causes2011['Descripció causa mediata'].str.replace('£', 'ú')\n",
    "causes.append(causes2011)"
   ]
  },
  {
   "cell_type": "code",
   "execution_count": 432,
   "metadata": {},
   "outputs": [],
   "source": [
    "tipus2011 = pd.read_csv('data/tipus/2011.csv', encoding='ANSI')[['N£mero d\\'expedient', 'Descripci¢ tipus accident']]\n",
    "tipus2011.columns = ['Número d\\'expedient', 'Descripció tipus accident']\n",
    "tipus2011['Descripció tipus accident'] = tipus2011['Descripció tipus accident'].str.replace('‚', 'é')\n",
    "tipus2011['Descripció tipus accident'] = tipus2011['Descripció tipus accident'].str.replace('Š', 'è')\n",
    "tipus2011['Descripció tipus accident'] = tipus2011['Descripció tipus accident'].str.replace('‡', 'ç')\n",
    "tipus2011['Descripció tipus accident'] = tipus2011['Descripció tipus accident'].str.replace('¢', 'ó')\n",
    "tipus2011['Descripció tipus accident'] = tipus2011['Descripció tipus accident'].str.replace('…', 'à')\n",
    "tipus2011['Descripció tipus accident'] = tipus2011['Descripció tipus accident'].str.replace('£', 'ú')\n",
    "tipus.append(tipus2011)"
   ]
  },
  {
   "cell_type": "code",
   "execution_count": 433,
   "metadata": {},
   "outputs": [],
   "source": [
    "persones2011 = pd.read_csv('data/persones/2011.csv', encoding='ANSI')[['Número d\\'expedient','Descripció causa vianant',  'Desc. Tipus vehicle implicat', 'Descripció sexe', 'Descripció tipus persona', 'Edat', 'Descripció victimització']]\n",
    "persones.append(persones2011)"
   ]
  },
  {
   "cell_type": "code",
   "execution_count": 434,
   "metadata": {},
   "outputs": [],
   "source": [
    "vehicles2011 = pd.read_csv('data/vehicles/2011.csv', encoding='ANSI')[['Codi d\\'expedient', 'Descripci¢ tipus de vehicle', 'Descripci¢ model', 'Descripci¢ marca', 'Descripci¢ color', 'Descripci¢ carnet', 'Antiguitat carnet']]\n",
    "vehicles2011.columns = ['Número d\\'expedient', 'Descripció tipus de vehicle', 'Descripció model', 'Descripció marca', 'Descripció color', 'Descripció carnet', 'Antiguitat carnet']\n",
    "vehicles2011 = vehicles2011.apply(lambda x: x.str.replace('‚', 'é'), axis=1)\n",
    "vehicles2011 = vehicles2011.apply(lambda x: x.str.replace('Š', 'è'), axis=1)\n",
    "vehicles2011 = vehicles2011.apply(lambda x: x.str.replace('‡', 'ç'), axis=1)\n",
    "vehicles2011 = vehicles2011.apply(lambda x: x.str.replace('¢', 'ó'), axis=1)\n",
    "vehicles2011 = vehicles2011.apply(lambda x: x.str.replace('…', 'à'), axis=1)\n",
    "vehicles2011 = vehicles2011.apply(lambda x: x.str.replace('£', 'ú'), axis=1)\n",
    "vehicles.append(vehicles2011)"
   ]
  },
  {
   "cell_type": "code",
   "execution_count": 435,
   "metadata": {},
   "outputs": [],
   "source": [
    "accidents2012 = pd.read_csv('data/accidents/2012.csv', encoding='ANSI')\n",
    "accidents2012.columns = ['Número d\\'expedient', 'Codi districte', 'Nom districte', 'Codi barri',\n",
    "       'Nom barri', 'Codi carrer', 'Nom carrer', 'Num postal caption',\n",
    "       'Descripció dia setmana', 'Dia setmana', 'Descripció tipus dia',\n",
    "       'NK Any', 'Mes de any', 'Nom mes', 'Dia de mes', 'Hora de dia',\n",
    "       'Descripció torn', 'Descripció causa vianant', 'Número de morts',\n",
    "       'Número de lesionats lleus', 'Número de lesionats greus',\n",
    "       'Número de víctimes', 'Número de vehicles implicats',\n",
    "       'Coordenada UTM (Y)', 'Coordenada UTM (X)']\n",
    "accidents.append(accidents2012)"
   ]
  },
  {
   "cell_type": "code",
   "execution_count": 436,
   "metadata": {},
   "outputs": [],
   "source": [
    "causes2012 = pd.read_csv('data/causes/2012.csv', encoding = 'ANSI')[['N£mero d\\'expedient', 'Descripci¢ causa mediata']]\n",
    "causes2012.columns = ['Número d\\'expedient', 'Descripció causa mediata']\n",
    "causes2012['Descripció causa mediata'] = causes2012['Descripció causa mediata'].str.replace('‚', 'é')\n",
    "causes2012['Descripció causa mediata'] = causes2012['Descripció causa mediata'].str.replace('Š', 'è')\n",
    "causes2012['Descripció causa mediata'] = causes2012['Descripció causa mediata'].str.replace('‡', 'ç')\n",
    "causes2012['Descripció causa mediata'] = causes2012['Descripció causa mediata'].str.replace('¢', 'ó')\n",
    "causes2012['Descripció causa mediata'] = causes2012['Descripció causa mediata'].str.replace('£', 'ú')\n",
    "causes.append(causes2012)"
   ]
  },
  {
   "cell_type": "code",
   "execution_count": 437,
   "metadata": {},
   "outputs": [],
   "source": [
    "tipus2012 = pd.read_csv('data/tipus/2012.csv', encoding='ANSI')[['N£mero d\\'expedient', 'Descripci¢ tipus accident']]\n",
    "tipus2012.columns = ['Número d\\'expedient', 'Descripció tipus accident']\n",
    "tipus2012['Descripció tipus accident'] = tipus2012['Descripció tipus accident'].str.replace('‚', 'é')\n",
    "tipus2012['Descripció tipus accident'] = tipus2012['Descripció tipus accident'].str.replace('Š', 'è')\n",
    "tipus2012['Descripció tipus accident'] = tipus2012['Descripció tipus accident'].str.replace('‡', 'ç')\n",
    "tipus2012['Descripció tipus accident'] = tipus2012['Descripció tipus accident'].str.replace('¢', 'ó')\n",
    "tipus2012['Descripció tipus accident'] = tipus2012['Descripció tipus accident'].str.replace('…', 'à')\n",
    "tipus2012['Descripció tipus accident'] = tipus2012['Descripció tipus accident'].str.replace('£', 'ú')\n",
    "tipus.append(tipus2012)"
   ]
  },
  {
   "cell_type": "code",
   "execution_count": 438,
   "metadata": {},
   "outputs": [],
   "source": [
    "persones2012 = pd.read_csv('data/persones/2012.csv', encoding='ANSI')[['Número d\\'expedient','Descripció causa vianant',  'Desc. Tipus vehicle implicat', 'Descripció sexe', 'Descripció tipus persona', 'Edat', 'Descripció victimització']]\n",
    "persones.append(persones2012)"
   ]
  },
  {
   "cell_type": "code",
   "execution_count": 439,
   "metadata": {
    "scrolled": false
   },
   "outputs": [],
   "source": [
    "vehicles2012 = pd.read_csv('data/vehicles/2012.csv', encoding='ANSI')[['Codi d\\'expedient', 'Descripci¢ tipus de vehicle', 'Descripci¢ model', 'Descripci¢ marca', 'Descripci¢ color', 'Descripci¢ carnet', 'Antiguitat carnet']]\n",
    "vehicles2012.columns = ['Número d\\'expedient', 'Descripció tipus de vehicle', 'Descripció model', 'Descripció marca', 'Descripció color', 'Descripció carnet', 'Antiguitat carnet']\n",
    "vehicles2012 = vehicles2012.apply(lambda x: x.str.replace('‚', 'é'), axis=1)\n",
    "vehicles2012 = vehicles2012.apply(lambda x: x.str.replace('Š', 'è'), axis=1)\n",
    "vehicles2012 = vehicles2012.apply(lambda x: x.str.replace('‡', 'ç'), axis=1)\n",
    "vehicles2012 = vehicles2012.apply(lambda x: x.str.replace('¢', 'ó'), axis=1)\n",
    "vehicles2012 = vehicles2012.apply(lambda x: x.str.replace('…', 'à'), axis=1)\n",
    "vehicles2012 = vehicles2012.apply(lambda x: x.str.replace('£', 'ú'), axis=1)\n",
    "vehicles.append(vehicles2012)"
   ]
  },
  {
   "cell_type": "code",
   "execution_count": 440,
   "metadata": {},
   "outputs": [],
   "source": [
    "accidents2013 = pd.read_csv('data/accidents/2013.csv', encoding='ANSI')\n",
    "accidents2013.columns = ['Número d\\'expedient', 'Codi districte', 'Nom districte', 'Codi barri',\n",
    "       'Nom barri', 'Codi carrer', 'Nom carrer', 'Num postal caption',\n",
    "       'Descripció dia setmana', 'Dia setmana', 'Descripció tipus dia',\n",
    "       'NK Any', 'Mes de any', 'Nom mes', 'Dia de mes', 'Hora de dia',\n",
    "       'Descripció torn', 'Descripció causa vianant', 'Número de morts',\n",
    "       'Número de lesionats lleus', 'Número de lesionats greus',\n",
    "       'Número de víctimes', 'Número de vehicles implicats',\n",
    "       'Coordenada UTM (Y)', 'Coordenada UTM (X)']\n",
    "accidents.append(accidents2013)"
   ]
  },
  {
   "cell_type": "code",
   "execution_count": 441,
   "metadata": {},
   "outputs": [],
   "source": [
    "causes2013 = pd.read_csv('data/causes/2013.csv', encoding = 'ANSI')[['N£mero d\\'expedient', 'Descripci¢ causa mediata']]\n",
    "causes2013.columns = ['Número d\\'expedient', 'Descripció causa mediata']\n",
    "causes2013['Descripció causa mediata'] = causes2013['Descripció causa mediata'].str.replace('‚', 'é')\n",
    "causes2013['Descripció causa mediata'] = causes2013['Descripció causa mediata'].str.replace('Š', 'è')\n",
    "causes2013['Descripció causa mediata'] = causes2013['Descripció causa mediata'].str.replace('‡', 'ç')\n",
    "causes2013['Descripció causa mediata'] = causes2013['Descripció causa mediata'].str.replace('¢', 'ó')\n",
    "causes2013['Descripció causa mediata'] = causes2013['Descripció causa mediata'].str.replace('£', 'ú')\n",
    "causes.append(causes2013)"
   ]
  },
  {
   "cell_type": "code",
   "execution_count": 442,
   "metadata": {},
   "outputs": [],
   "source": [
    "tipus2013 = pd.read_csv('data/tipus/2013.csv', encoding='ANSI')[['N£mero d\\'expedient', 'Descripci¢ tipus accident']]\n",
    "tipus2013.columns = ['Número d\\'expedient', 'Descripció tipus accident']\n",
    "tipus2013['Descripció tipus accident'] = tipus2013['Descripció tipus accident'].str.replace('‚', 'é')\n",
    "tipus2013['Descripció tipus accident'] = tipus2013['Descripció tipus accident'].str.replace('Š', 'è')\n",
    "tipus2013['Descripció tipus accident'] = tipus2013['Descripció tipus accident'].str.replace('‡', 'ç')\n",
    "tipus2013['Descripció tipus accident'] = tipus2013['Descripció tipus accident'].str.replace('¢', 'ó')\n",
    "tipus2013['Descripció tipus accident'] = tipus2013['Descripció tipus accident'].str.replace('…', 'à')\n",
    "tipus2013['Descripció tipus accident'] = tipus2013['Descripció tipus accident'].str.replace('£', 'ú')\n",
    "tipus.append(tipus2013)"
   ]
  },
  {
   "cell_type": "code",
   "execution_count": 443,
   "metadata": {},
   "outputs": [],
   "source": [
    "persones2013 = pd.read_csv('data/persones/2013.csv', encoding='ANSI')[['Número d\\'expedient','Descripció causa vianant',  'Desc. Tipus vehicle implicat', 'Descripció sexe', 'Descripció tipus persona', 'Edat', 'Descripció victimització']]\n",
    "persones.append(persones2013)"
   ]
  },
  {
   "cell_type": "code",
   "execution_count": 444,
   "metadata": {},
   "outputs": [],
   "source": [
    "vehicles2013 = pd.read_csv('data/vehicles/2013.csv', encoding='ANSI')[['Codi d\\'expedient', 'Descripci¢ tipus de vehicle', 'Descripci¢ model', 'Descripci¢ marca', 'Descripci¢ color', 'Descripci¢ carnet', 'Antiguitat carnet']]\n",
    "vehicles2013.columns = ['Número d\\'expedient', 'Descripció tipus de vehicle', 'Descripció model', 'Descripció marca', 'Descripció color', 'Descripció carnet', 'Antiguitat carnet']\n",
    "vehicles2013 = vehicles2013.apply(lambda x: x.str.replace('‚', 'é'), axis=1)\n",
    "vehicles2013 = vehicles2013.apply(lambda x: x.str.replace('Š', 'è'), axis=1)\n",
    "vehicles2013 = vehicles2013.apply(lambda x: x.str.replace('‡', 'ç'), axis=1)\n",
    "vehicles2013 = vehicles2013.apply(lambda x: x.str.replace('¢', 'ó'), axis=1)\n",
    "vehicles2013 = vehicles2013.apply(lambda x: x.str.replace('…', 'à'), axis=1)\n",
    "vehicles2013 = vehicles2013.apply(lambda x: x.str.replace('£', 'ú'), axis=1)\n",
    "vehicles.append(vehicles2013)"
   ]
  },
  {
   "cell_type": "code",
   "execution_count": 445,
   "metadata": {},
   "outputs": [],
   "source": [
    "accidents2014 = pd.read_csv('data/accidents/2014.csv', encoding='ANSI')\n",
    "accidents2014.columns = ['Número d\\'expedient', 'Codi districte', 'Nom districte', 'Codi barri',\n",
    "       'Nom barri', 'Codi carrer', 'Nom carrer', 'Num postal caption',\n",
    "       'Descripció dia setmana', 'Dia setmana', 'Descripció tipus dia',\n",
    "       'NK Any', 'Mes de any', 'Nom mes', 'Dia de mes', 'Hora de dia',\n",
    "       'Descripció torn', 'Descripció causa vianant', 'Número de morts',\n",
    "       'Número de lesionats lleus', 'Número de lesionats greus',\n",
    "       'Número de víctimes', 'Número de vehicles implicats',\n",
    "       'Coordenada UTM (Y)', 'Coordenada UTM (X)']\n",
    "accidents.append(accidents2014)"
   ]
  },
  {
   "cell_type": "code",
   "execution_count": 446,
   "metadata": {},
   "outputs": [],
   "source": [
    "causes2014 = pd.read_csv('data/causes/2014.csv', encoding = 'ANSI')[['N£mero d\\'expedient', 'Descripci¢ causa mediata']]\n",
    "causes2014.columns = ['Número d\\'expedient', 'Descripció causa mediata']\n",
    "causes2014['Descripció causa mediata'] = causes2014['Descripció causa mediata'].str.replace('‚', 'é')\n",
    "causes2014['Descripció causa mediata'] = causes2014['Descripció causa mediata'].str.replace('Š', 'è')\n",
    "causes2014['Descripció causa mediata'] = causes2014['Descripció causa mediata'].str.replace('‡', 'ç')\n",
    "causes2014['Descripció causa mediata'] = causes2014['Descripció causa mediata'].str.replace('¢', 'ó')\n",
    "causes2014['Descripció causa mediata'] = causes2014['Descripció causa mediata'].str.replace('£', 'ú')\n",
    "causes.append(causes2014)"
   ]
  },
  {
   "cell_type": "code",
   "execution_count": 447,
   "metadata": {},
   "outputs": [],
   "source": [
    "tipus2014 = pd.read_csv('data/tipus/2014.csv', encoding='ANSI')[['N£mero d\\'expedient', 'Descripci¢ tipus accident']]\n",
    "tipus2014.columns = ['Número d\\'expedient', 'Descripció tipus accident']\n",
    "tipus2014['Descripció tipus accident'] = tipus2014['Descripció tipus accident'].str.replace('‚', 'é')\n",
    "tipus2014['Descripció tipus accident'] = tipus2014['Descripció tipus accident'].str.replace('Š', 'è')\n",
    "tipus2014['Descripció tipus accident'] = tipus2014['Descripció tipus accident'].str.replace('‡', 'ç')\n",
    "tipus2014['Descripció tipus accident'] = tipus2014['Descripció tipus accident'].str.replace('¢', 'ó')\n",
    "tipus2014['Descripció tipus accident'] = tipus2014['Descripció tipus accident'].str.replace('…', 'à')\n",
    "tipus2014['Descripció tipus accident'] = tipus2014['Descripció tipus accident'].str.replace('£', 'ú')\n",
    "tipus.append(tipus2014)"
   ]
  },
  {
   "cell_type": "code",
   "execution_count": 448,
   "metadata": {},
   "outputs": [],
   "source": [
    "persones2014 = pd.read_csv('data/persones/2014.csv', encoding='ANSI')[['N£mero d\\'expedient','Descripci¢ causa vianant',  'Desc. Tipus vehicle implicat', 'Descripci¢ sexe', 'Descripci¢ tipus persona', 'Edat', 'Descripci¢ victimitzaci¢']]\n",
    "persones2014.columns = ['Número d\\'expedient','Descripció causa vianant',  'Desc. Tipus vehicle implicat', 'Descripció sexe', 'Descripció tipus persona', 'Edat', 'Descripció victimització']\n",
    "persones2014 = persones2014.apply(lambda x: x.str.replace('‚', 'é'), axis=1)\n",
    "persones2014 = persones2014.apply(lambda x: x.str.replace('Š', 'è'), axis=1)\n",
    "persones2014 = persones2014.apply(lambda x: x.str.replace('‡', 'ç'), axis=1)\n",
    "persones2014 = persones2014.apply(lambda x: x.str.replace('¢', 'ó'), axis=1)\n",
    "persones2014 = persones2014.apply(lambda x: x.str.replace('…', 'à'), axis=1)\n",
    "persones2014 = persones2014.apply(lambda x: x.str.replace('£', 'ú'), axis=1)\n",
    "persones.append(persones2014)"
   ]
  },
  {
   "cell_type": "code",
   "execution_count": 449,
   "metadata": {},
   "outputs": [],
   "source": [
    "vehicles2014 = pd.read_csv('data/vehicles/2014.csv', encoding='ANSI')[['Codi d\\'expedient', 'Descripci¢ tipus de vehicle', 'Descripci¢ model', 'Descripci¢ marca', 'Descripci¢ color', 'Descripci¢ carnet', 'Antiguitat carnet']]\n",
    "vehicles2014.columns = ['Número d\\'expedient', 'Descripció tipus de vehicle', 'Descripció model', 'Descripció marca', 'Descripció color', 'Descripció carnet', 'Antiguitat carnet']\n",
    "vehicles2014 = vehicles2014.apply(lambda x: x.str.replace('‚', 'é'), axis=1)\n",
    "vehicles2014 = vehicles2014.apply(lambda x: x.str.replace('Š', 'è'), axis=1)\n",
    "vehicles2014 = vehicles2014.apply(lambda x: x.str.replace('‡', 'ç'), axis=1)\n",
    "vehicles2014 = vehicles2014.apply(lambda x: x.str.replace('¢', 'ó'), axis=1)\n",
    "vehicles2014 = vehicles2014.apply(lambda x: x.str.replace('…', 'à'), axis=1)\n",
    "vehicles2014 = vehicles2014.apply(lambda x: x.str.replace('£', 'ú'), axis=1)\n",
    "vehicles.append(vehicles2014)"
   ]
  },
  {
   "cell_type": "code",
   "execution_count": 450,
   "metadata": {
    "scrolled": false
   },
   "outputs": [],
   "source": [
    "accidents2015 = pd.read_csv('data/accidents/2015.csv', encoding='ANSI', delimiter=';')\n",
    "accidents2015.columns = ['Número d\\'expedient', 'Codi districte', 'Nom districte', 'Codi barri',\n",
    "       'Nom barri', 'Codi carrer', 'Nom carrer', 'Num postal caption',\n",
    "       'Descripció dia setmana', 'Dia setmana', 'Descripció tipus dia',\n",
    "       'NK Any', 'Mes de any', 'Nom mes', 'Dia de mes', 'Hora de dia',\n",
    "       'Descripció torn', 'Descripció causa vianant', 'Número de morts',\n",
    "       'Número de lesionats lleus', 'Número de lesionats greus',\n",
    "       'Número de víctimes', 'Número de vehicles implicats',\n",
    "       'Coordenada UTM (Y)', 'Coordenada UTM (X)']\n",
    "accidents.append(accidents2015)"
   ]
  },
  {
   "cell_type": "code",
   "execution_count": 451,
   "metadata": {},
   "outputs": [],
   "source": [
    "causes2015 = pd.read_csv('data/causes/2015.csv', encoding = 'ANSI')[['Número d\\'expedient', 'Descripció causa mediata']]\n",
    "causes.append(causes2015)"
   ]
  },
  {
   "cell_type": "code",
   "execution_count": 452,
   "metadata": {},
   "outputs": [],
   "source": [
    "tipus2015 = pd.read_csv('data/tipus/2015.csv', encoding='ANSI')[['Número d\\'expedient', 'Descripció tipus accident']]\n",
    "tipus.append(tipus2015)"
   ]
  },
  {
   "cell_type": "code",
   "execution_count": 453,
   "metadata": {},
   "outputs": [],
   "source": [
    "persones2015 = pd.read_csv('data/persones/2015.csv', encoding='ANSI')[['Número d\\'expedient','Descripció causa vianant',  'Desc. Tipus vehicle implicat', 'Descripció sexe', 'Descripció tipus persona', 'Edat', 'Descripció victimització']]\n",
    "persones.append(persones2015)"
   ]
  },
  {
   "cell_type": "code",
   "execution_count": 454,
   "metadata": {},
   "outputs": [],
   "source": [
    "vehicles2015 = pd.read_csv('data/vehicles/2015.csv', encoding='ANSI')[['Codi d\\'expedient', 'Descripció tipus de vehicle', 'Descripció model', 'Descripció marca', 'Descripció color', 'Descripció carnet', 'Antiguitat carnet']]\n",
    "vehicles2015.columns = ['Número d\\'expedient', 'Descripció tipus de vehicle', 'Descripció model', 'Descripció marca', 'Descripció color', 'Descripció carnet', 'Antiguitat carnet']\n",
    "vehicles.append(vehicles2015)"
   ]
  },
  {
   "cell_type": "code",
   "execution_count": 455,
   "metadata": {},
   "outputs": [],
   "source": [
    "accidents2016 = pd.read_csv('data/accidents/2016.csv')[['Numero_expedient', 'Codi_districte', 'Nom_districte', 'Codi_barri', 'Nom_barri', 'Codi_carrer', 'Nom_carrer', 'Num_postal', 'Descripcio_dia_setmana', 'Dia_setmana', 'Descripcio_tipus_dia', 'Any', 'Mes_any', 'Nom_mes', 'Dia_mes', 'Hora_dia', 'Descripcio_torn', 'Descripcio_causa_vianant', 'Numero_morts', 'Numero_lesionats_lleus', 'Numero_lesionats_greus', 'Numero_victimes', 'Numero_vehicles_implicats', 'Coordenada_UTM_X', 'Coordenada_UTM_Y']]\n",
    "accidents2016.columns = ['Número d\\'expedient', 'Codi districte', 'Nom districte', 'Codi barri',\n",
    "       'Nom barri', 'Codi carrer', 'Nom carrer', 'Num postal caption',\n",
    "       'Descripció dia setmana', 'Dia setmana', 'Descripció tipus dia',\n",
    "       'NK Any', 'Mes de any', 'Nom mes', 'Dia de mes', 'Hora de dia',\n",
    "       'Descripció torn', 'Descripció causa vianant', 'Número de morts',\n",
    "       'Número de lesionats lleus', 'Número de lesionats greus',\n",
    "       'Número de víctimes', 'Número de vehicles implicats',\n",
    "       'Coordenada UTM (Y)', 'Coordenada UTM (X)']\n",
    "accidents.append(accidents2016)"
   ]
  },
  {
   "cell_type": "code",
   "execution_count": 456,
   "metadata": {},
   "outputs": [],
   "source": [
    "causes2016 = pd.read_csv('data/causes/2016.csv')[['Numero_expedient', 'Descripcio_causa_mediata']]\n",
    "causes2016.columns = ['Número d\\'expedient', 'Descripció causa mediata']\n",
    "causes.append(causes2016)"
   ]
  },
  {
   "cell_type": "code",
   "execution_count": 457,
   "metadata": {},
   "outputs": [],
   "source": [
    "tipus2016 = pd.read_csv('data/tipus/2016.csv')[['Numero_expedient', 'Descripcio_tipus_accident']]\n",
    "tipus2016.columns = ['Número d\\'expedient', 'Descripció tipus accident']\n",
    "tipus.append(tipus2016)"
   ]
  },
  {
   "cell_type": "code",
   "execution_count": 458,
   "metadata": {},
   "outputs": [],
   "source": [
    "persones2016 = pd.read_csv('data/persones/2016.csv')[['Numero_expedient', 'Descripcio_causa_vianant', 'Desc_Tipus_vehicle_implicat',\n",
    "       'Descripcio_sexe', 'Descripcio_tipus_persona', 'Edat', 'Descripcio_victimitzacio']]\n",
    "persones2016.columns= ['Número d\\'expedient','Descripció causa vianant',  'Desc. Tipus vehicle implicat', 'Descripció sexe', 'Descripció tipus persona', 'Edat', 'Descripció victimització']\n",
    "persones.append(persones2016)"
   ]
  },
  {
   "cell_type": "code",
   "execution_count": 459,
   "metadata": {},
   "outputs": [],
   "source": [
    "vehicles2016 = pd.read_csv('data/vehicles/2016.csv')[['Codi_expedient', \n",
    "       'Descripcio_tipus_vehicle', 'Descripcio_model', 'Descripcio_marca',\n",
    "       'Descripcio_color', 'Descripcio_carnet', 'Antiguitat_carnet']]\n",
    "vehicles2016.columns = ['Número d\\'expedient', 'Descripció tipus de vehicle', 'Descripció model', 'Descripció marca', 'Descripció color', 'Descripció carnet', 'Antiguitat carnet']\n",
    "vehicles.append(vehicles2016)"
   ]
  },
  {
   "cell_type": "code",
   "execution_count": 460,
   "metadata": {},
   "outputs": [],
   "source": [
    "accidents2017 = pd.read_csv('data/accidents/2017.csv')[['Numero_expedient', 'Codi_districte', 'Nom_districte', 'Codi_barri', 'Nom_barri', 'Codi_carrer', 'Nom_carrer', 'Num_postal', 'Descripcio_dia_setmana', 'Dia_setmana', 'Descripcio_tipus_dia', 'Any', 'Mes_any', 'Nom_mes', 'Dia_mes', 'Hora_dia', 'Descripcio_torn', 'Descripcio_causa_vianant', 'Numero_morts', 'Numero_lesionats_lleus', 'Numero_lesionats_greus', 'Numero_victimes', 'Numero_vehicles_implicats', 'Coordenada_UTM_X', 'Coordenada_UTM_Y']]\n",
    "accidents2017.columns = ['Número d\\'expedient', 'Codi districte', 'Nom districte', 'Codi barri',\n",
    "       'Nom barri', 'Codi carrer', 'Nom carrer', 'Num postal caption',\n",
    "       'Descripció dia setmana', 'Dia setmana', 'Descripció tipus dia',\n",
    "       'NK Any', 'Mes de any', 'Nom mes', 'Dia de mes', 'Hora de dia',\n",
    "       'Descripció torn', 'Descripció causa vianant', 'Número de morts',\n",
    "       'Número de lesionats lleus', 'Número de lesionats greus',\n",
    "       'Número de víctimes', 'Número de vehicles implicats',\n",
    "       'Coordenada UTM (Y)', 'Coordenada UTM (X)']\n",
    "accidents.append(accidents2017)"
   ]
  },
  {
   "cell_type": "code",
   "execution_count": 461,
   "metadata": {},
   "outputs": [],
   "source": [
    "causes2017 = pd.read_csv('data/causes/2017.csv')[['Numero_expedient', 'Descripcio_causa_mediata']]\n",
    "causes2017.columns = ['Número d\\'expedient', 'Descripció causa mediata']\n",
    "causes.append(causes2017)"
   ]
  },
  {
   "cell_type": "code",
   "execution_count": 462,
   "metadata": {},
   "outputs": [],
   "source": [
    "tipus2017 = pd.read_csv('data/tipus/2017.csv')[['Numero_expedient', 'Descripcio_tipus_accident']]\n",
    "tipus2017.columns = ['Número d\\'expedient', 'Descripció tipus accident']\n",
    "tipus.append(tipus2017)"
   ]
  },
  {
   "cell_type": "code",
   "execution_count": 463,
   "metadata": {},
   "outputs": [],
   "source": [
    "persones2017 = pd.read_csv('data/persones/2017.csv')[['Numero_expedient', 'Descripcio_causa_vianant', 'Desc_Tipus_vehicle_implicat',\n",
    "       'Descripcio_sexe', 'Edat', 'Descripcio_tipus_persona', 'Descripcio_victimitzacio']]\n",
    "persones2017.columns= ['Número d\\'expedient','Descripció causa vianant',  'Desc. Tipus vehicle implicat', 'Descripció sexe', 'Descripció tipus persona', 'Edat', 'Descripció victimització']\n",
    "persones.append(persones2017)"
   ]
  },
  {
   "cell_type": "code",
   "execution_count": 464,
   "metadata": {},
   "outputs": [],
   "source": [
    "vehicles2017 = pd.read_csv('data/vehicles/2017.csv')[['Codi_expedient', \n",
    "       'Descripcio_tipus_vehicle', 'Descripcio_model', 'Descripcio_marca',\n",
    "       'Descripcio_color', 'Descripcio_carnet', 'Antiguitat_carnet']]\n",
    "vehicles2017.columns = ['Número d\\'expedient', 'Descripció tipus de vehicle', 'Descripció model', 'Descripció marca', 'Descripció color', 'Descripció carnet', 'Antiguitat carnet']\n",
    "vehicles.append(vehicles2017)"
   ]
  },
  {
   "cell_type": "code",
   "execution_count": 465,
   "metadata": {},
   "outputs": [],
   "source": [
    "accidents2018 = pd.read_csv('data/accidents/2018.csv')[['Numero_expedient', 'Codi_districte', 'Nom_districte', 'Codi_barri', 'Nom_barri', 'Codi_carrer', 'Nom_carrer', 'Num_postal ', 'Descripcio_dia_setmana', 'Dia_setmana', 'Descripcio_tipus_dia', 'Any', 'Mes_any', 'Nom_mes', 'Dia_mes', 'Hora_dia', 'Descripcio_torn', 'Descripcio_causa_vianant', 'Numero_morts', 'Numero_lesionats_lleus', 'Numero_lesionats_greus', 'Numero_victimes', 'Numero_vehicles_implicats', 'Coordenada_UTM_X', 'Coordenada_UTM_Y']]\n",
    "accidents2018.columns = ['Número d\\'expedient', 'Codi districte', 'Nom districte', 'Codi barri',\n",
    "       'Nom barri', 'Codi carrer', 'Nom carrer', 'Num postal caption',\n",
    "       'Descripció dia setmana', 'Dia setmana', 'Descripció tipus dia',\n",
    "       'NK Any', 'Mes de any', 'Nom mes', 'Dia de mes', 'Hora de dia',\n",
    "       'Descripció torn', 'Descripció causa vianant', 'Número de morts',\n",
    "       'Número de lesionats lleus', 'Número de lesionats greus',\n",
    "       'Número de víctimes', 'Número de vehicles implicats',\n",
    "       'Coordenada UTM (Y)', 'Coordenada UTM (X)']\n",
    "accidents.append(accidents2018)"
   ]
  },
  {
   "cell_type": "code",
   "execution_count": 466,
   "metadata": {},
   "outputs": [],
   "source": [
    "causes2018 = pd.read_csv('data/causes/2018.csv')[['Numero_expedient', 'Descripcio_causa_mediata']]\n",
    "causes2018.columns = ['Número d\\'expedient', 'Descripció causa mediata']\n",
    "causes.append(causes2018)"
   ]
  },
  {
   "cell_type": "code",
   "execution_count": 467,
   "metadata": {},
   "outputs": [],
   "source": [
    "tipus2018 = pd.read_csv('data/tipus/2018.csv')[['Numero_expedient', 'Descripcio_tipus_accident']]\n",
    "tipus2018.columns = ['Número d\\'expedient', 'Descripció tipus accident']\n",
    "tipus.append(tipus2018)"
   ]
  },
  {
   "cell_type": "code",
   "execution_count": 468,
   "metadata": {},
   "outputs": [],
   "source": [
    "persones2018 = pd.read_csv('data/persones/2018.csv')[['Numero_expedient', 'Descripcio_causa_vianant', 'Desc_Tipus_vehicle_implicat',\n",
    "       'Descripcio_sexe', 'Edat', 'Descripcio_tipus_persona', 'Descripcio_victimitzacio']]\n",
    "persones2018.columns= ['Número d\\'expedient','Descripció causa vianant',  'Desc. Tipus vehicle implicat', 'Descripció sexe', 'Descripció tipus persona', 'Edat', 'Descripció victimització']\n",
    "persones.append(persones2018)"
   ]
  },
  {
   "cell_type": "code",
   "execution_count": 469,
   "metadata": {},
   "outputs": [],
   "source": [
    "vehicles2018 = pd.read_csv('data/vehicles/2018.csv')[['Codi_expedient', \n",
    "       'Descripcio_tipus_vehicle', 'Descripcio_model', 'Descripcio_marca',\n",
    "       'Descripcio_color', 'Descripcio_carnet', 'Antiguitat_carnet']]\n",
    "vehicles2018.columns = ['Número d\\'expedient', 'Descripció tipus de vehicle', 'Descripció model', 'Descripció marca', 'Descripció color', 'Descripció carnet', 'Antiguitat carnet']\n",
    "vehicles.append(vehicles2018)"
   ]
  },
  {
   "cell_type": "code",
   "execution_count": 470,
   "metadata": {},
   "outputs": [],
   "source": [
    "\n",
    "for i in range(9):\n",
    "    accidents[i] = pd.merge(accidents[i], tipus[i], on='Número d\\'expedient', how='inner')"
   ]
  },
  {
   "cell_type": "code",
   "execution_count": 471,
   "metadata": {},
   "outputs": [],
   "source": [
    "for i in range(9):\n",
    "    accidents2010.to_csv('clean_data/2010/accidents.csv', index = False)\n",
    "\n",
    "accidents2010.to_csv('clean_data/2010/accidents.csv', index = False)\n",
    "accidents2011.to_csv('clean_data/2011/accidents.csv', index = False)\n",
    "accidents2012.to_csv('clean_data/2012/accidents.csv', index = False)\n",
    "accidents2013.to_csv('clean_data/2013/accidents.csv', index = False)\n",
    "accidents2014.to_csv('clean_data/2014/accidents.csv', index = False)\n",
    "accidents2015.to_csv('clean_data/2015/accidents.csv', index = False)\n",
    "accidents2016.to_csv('clean_data/2016/accidents.csv', index = False)\n",
    "accidents2017.to_csv('clean_data/2017/accidents.csv', index = False)\n",
    "accidents2018.to_csv('clean_data/2018/accidents.csv', index = False)\n",
    "\n",
    "\n",
    "persones2010.to_csv('clean_data/2010/persones.csv', index = False)\n",
    "persones2011.to_csv('clean_data/2011/persones.csv', index = False)\n",
    "persones2012.to_csv('clean_data/2012/persones.csv', index = False)\n",
    "persones2013.to_csv('clean_data/2013/persones.csv', index = False)\n",
    "persones2014.to_csv('clean_data/2014/persones.csv', index = False)\n",
    "persones2015.to_csv('clean_data/2015/persones.csv', index = False)\n",
    "persones2016.to_csv('clean_data/2016/persones.csv', index = False)\n",
    "persones2017.to_csv('clean_data/2017/persones.csv', index = False)\n",
    "persones2018.to_csv('clean_data/2018/persones.csv', index = False)\n",
    "\n",
    "vehicles2010.to_csv('clean_data/2010/vehicles.csv', index = False)\n",
    "vehicles2011.to_csv('clean_data/2011/vehicles.csv', index = False)\n",
    "vehicles2012.to_csv('clean_data/2012/vehicles.csv', index = False)\n",
    "vehicles2013.to_csv('clean_data/2013/vehicles.csv', index = False)\n",
    "vehicles2014.to_csv('clean_data/2014/vehicles.csv', index = False)\n",
    "vehicles2015.to_csv('clean_data/2015/vehicles.csv', index = False)\n",
    "vehicles2016.to_csv('clean_data/2016/vehicles.csv', index = False)\n",
    "vehicles2017.to_csv('clean_data/2017/vehicles.csv', index = False)\n",
    "vehicles2018.to_csv('clean_data/2018/vehicles.csv', index = False)"
   ]
  }
 ],
 "metadata": {
  "kernelspec": {
   "display_name": "Python 3",
   "language": "python",
   "name": "python3"
  },
  "language_info": {
   "codemirror_mode": {
    "name": "ipython",
    "version": 3
   },
   "file_extension": ".py",
   "mimetype": "text/x-python",
   "name": "python",
   "nbconvert_exporter": "python",
   "pygments_lexer": "ipython3",
   "version": "3.6.8"
  }
 },
 "nbformat": 4,
 "nbformat_minor": 2
}
