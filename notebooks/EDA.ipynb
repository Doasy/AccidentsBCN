{
 "cells": [
  {
   "cell_type": "markdown",
   "metadata": {},
   "source": [
    "# Exploratory data analysis"
   ]
  },
  {
   "cell_type": "code",
   "execution_count": 1,
   "metadata": {},
   "outputs": [],
   "source": [
    "import pandas as pd\n",
    "import numpy as np\n",
    "import matplotlib.pyplot as plt\n",
    "import seaborn as sns"
   ]
  },
  {
   "cell_type": "code",
   "execution_count": 2,
   "metadata": {},
   "outputs": [],
   "source": [
    "plt.rcParams['figure.figsize'] = (10, 8)"
   ]
  },
  {
   "cell_type": "code",
   "execution_count": 3,
   "metadata": {},
   "outputs": [],
   "source": [
    "df = pd.read_csv('../data/final/featured.csv')"
   ]
  },
  {
   "cell_type": "markdown",
   "metadata": {},
   "source": [
    "## Identification of variables and data types"
   ]
  },
  {
   "cell_type": "code",
   "execution_count": 4,
   "metadata": {},
   "outputs": [
    {
     "data": {
      "text/html": [
       "<div>\n",
       "<style scoped>\n",
       "    .dataframe tbody tr th:only-of-type {\n",
       "        vertical-align: middle;\n",
       "    }\n",
       "\n",
       "    .dataframe tbody tr th {\n",
       "        vertical-align: top;\n",
       "    }\n",
       "\n",
       "    .dataframe thead th {\n",
       "        text-align: right;\n",
       "    }\n",
       "</style>\n",
       "<table border=\"1\" class=\"dataframe\">\n",
       "  <thead>\n",
       "    <tr style=\"text-align: right;\">\n",
       "      <th></th>\n",
       "      <th>Número d'expedient</th>\n",
       "      <th>any</th>\n",
       "      <th>tipus_vehicle</th>\n",
       "      <th>Descripció model</th>\n",
       "      <th>marca</th>\n",
       "      <th>color_vehicle</th>\n",
       "      <th>tipus_carnet</th>\n",
       "      <th>expertesa_carnet</th>\n",
       "      <th>genere</th>\n",
       "      <th>rang_edat</th>\n",
       "    </tr>\n",
       "  </thead>\n",
       "  <tbody>\n",
       "    <tr>\n",
       "      <th>0</th>\n",
       "      <td>2014S003380</td>\n",
       "      <td>2014</td>\n",
       "      <td>Motocicleta</td>\n",
       "      <td>Transalp</td>\n",
       "      <td>HONDA</td>\n",
       "      <td>Blanc</td>\n",
       "      <td>A</td>\n",
       "      <td>3</td>\n",
       "      <td>Home</td>\n",
       "      <td>1</td>\n",
       "    </tr>\n",
       "    <tr>\n",
       "      <th>1</th>\n",
       "      <td>2014S003380</td>\n",
       "      <td>2014</td>\n",
       "      <td>Turismo</td>\n",
       "      <td>TOURAN</td>\n",
       "      <td>VOLKSWAGEN</td>\n",
       "      <td>Gris</td>\n",
       "      <td>B</td>\n",
       "      <td>3</td>\n",
       "      <td>Home</td>\n",
       "      <td>1</td>\n",
       "    </tr>\n",
       "    <tr>\n",
       "      <th>2</th>\n",
       "      <td>2014S006504</td>\n",
       "      <td>2014</td>\n",
       "      <td>Motocicleta</td>\n",
       "      <td>X Max</td>\n",
       "      <td>YAMAHA</td>\n",
       "      <td>Negre</td>\n",
       "      <td>B</td>\n",
       "      <td>3</td>\n",
       "      <td>Home</td>\n",
       "      <td>1</td>\n",
       "    </tr>\n",
       "    <tr>\n",
       "      <th>3</th>\n",
       "      <td>2014S006504</td>\n",
       "      <td>2014</td>\n",
       "      <td>Motocicleta</td>\n",
       "      <td>X Max</td>\n",
       "      <td>YAMAHA</td>\n",
       "      <td>Negre</td>\n",
       "      <td>B</td>\n",
       "      <td>3</td>\n",
       "      <td>Home</td>\n",
       "      <td>1</td>\n",
       "    </tr>\n",
       "    <tr>\n",
       "      <th>4</th>\n",
       "      <td>2014S006504</td>\n",
       "      <td>2014</td>\n",
       "      <td>Motocicleta</td>\n",
       "      <td>PHANTEON</td>\n",
       "      <td>HONDA</td>\n",
       "      <td>Gris</td>\n",
       "      <td>B</td>\n",
       "      <td>3</td>\n",
       "      <td>Home</td>\n",
       "      <td>1</td>\n",
       "    </tr>\n",
       "  </tbody>\n",
       "</table>\n",
       "</div>"
      ],
      "text/plain": [
       "  Número d'expedient   any tipus_vehicle Descripció model       marca  \\\n",
       "0        2014S003380  2014   Motocicleta         Transalp       HONDA   \n",
       "1        2014S003380  2014       Turismo           TOURAN  VOLKSWAGEN   \n",
       "2        2014S006504  2014   Motocicleta            X Max      YAMAHA   \n",
       "3        2014S006504  2014   Motocicleta            X Max      YAMAHA   \n",
       "4        2014S006504  2014   Motocicleta         PHANTEON       HONDA   \n",
       "\n",
       "  color_vehicle tipus_carnet  expertesa_carnet genere  rang_edat  \n",
       "0         Blanc            A                 3   Home          1  \n",
       "1          Gris            B                 3   Home          1  \n",
       "2         Negre            B                 3   Home          1  \n",
       "3         Negre            B                 3   Home          1  \n",
       "4          Gris            B                 3   Home          1  "
      ]
     },
     "execution_count": 4,
     "metadata": {},
     "output_type": "execute_result"
    }
   ],
   "source": [
    "df.head()"
   ]
  },
  {
   "cell_type": "code",
   "execution_count": 5,
   "metadata": {},
   "outputs": [
    {
     "name": "stdout",
     "output_type": "stream",
     "text": [
      "<class 'pandas.core.frame.DataFrame'>\n",
      "RangeIndex: 35048 entries, 0 to 35047\n",
      "Data columns (total 10 columns):\n",
      "Número d'expedient    35048 non-null object\n",
      "any                   35048 non-null int64\n",
      "tipus_vehicle         35048 non-null object\n",
      "Descripció model      35044 non-null object\n",
      "marca                 35048 non-null object\n",
      "color_vehicle         35048 non-null object\n",
      "tipus_carnet          35048 non-null object\n",
      "expertesa_carnet      35048 non-null int64\n",
      "genere                35048 non-null object\n",
      "rang_edat             35048 non-null int64\n",
      "dtypes: int64(3), object(7)\n",
      "memory usage: 2.7+ MB\n"
     ]
    }
   ],
   "source": [
    "df.info()"
   ]
  },
  {
   "cell_type": "markdown",
   "metadata": {},
   "source": [
    "## Non-Graphical Univariate Analysis"
   ]
  },
  {
   "cell_type": "code",
   "execution_count": 6,
   "metadata": {},
   "outputs": [
    {
     "name": "stdout",
     "output_type": "stream",
     "text": [
      "['Motocicleta' 'Turismo' 'Ciclomotor' 'Furgoneta' 'Camión <= 3,5 Tm'\n",
      " 'Autobús' 'Camión > 3,5 Tm' 'Taxi' 'Todo terreno' 'Bicicleta' 'Autocar'\n",
      " 'Tractocamión' 'Otros veh¡c. a motor' 'Autocaravana' 'Autobús articulado'\n",
      " 'Microbus <=17 plazas' 'Cuadriciclo <75cc' 'Cuadriciclo >=75cc'\n",
      " 'Maquinaria de obras' 'Otros vehíc. a motor' 'Tranvía o tren']\n",
      "['HONDA' 'VOLKSWAGEN' 'YAMAHA' 'SEAT' 'AUDI' 'APRILIA' 'RENAULT' 'PEUGEOT'\n",
      " 'HYOSUNG' 'SUZUKI' 'OPEL' 'FORD' 'CITROEN' 'KYMCO' 'PIAGGIO' 'DUCATI'\n",
      " 'NISSAN' 'SYM' 'MALAGUTI' 'KIA' 'IVECO FIAT' 'BMW' 'MERCEDES' 'IRISBUS'\n",
      " 'TOYOTA' 'DAELIM' 'HYUNDAI' 'DERBI' 'MAN' 'GOVECS' 'SKODA'\n",
      " 'HARLEY DAVIDSON' 'DAEWOO' 'SUBARU' 'ROVER' 'VESPA' 'LML' 'VOLVO' 'MAZDA'\n",
      " 'Desconegut' 'ALFA ROMEO' 'CHRYSLER' 'SAAB' 'TRIUMPH' 'LEXUS' 'FIAT'\n",
      " 'PGO' 'KAWASAKI' 'GILERA' 'DACIA' 'LANCIA' 'SMART' 'MBK' 'CHEVROLET'\n",
      " 'COOLTRA' 'PORSCHE' 'SCANIA' 'KTM' 'KEEWAY' 'MINI' 'MONTESA' 'LAND ROVER'\n",
      " 'MITSUBISHI' 'BETA' 'TGB' 'JEEP' 'MERCEDES-BENZ' 'RIEJU' 'DENNIS'\n",
      " 'YIYING' 'HAOTIAN' 'DAF-HERMANNS' 'CAGIVA' 'ROYAL ENFIELD'\n",
      " 'MOTOR HISPANIA' 'MV AUGUSTA' 'JAGUAR' 'CHATENET' 'JINLUN' 'ERIDER'\n",
      " 'AUSTIN' 'BH' 'DODGE' 'BENELLI' 'ZNEN' 'CHUANL' 'BIMOTA' 'XINGYUE'\n",
      " 'GOWINN' 'FERRARI' 'TRUEBA' 'CSR' 'AIYUMO' 'SUMCO' 'HANWAY' 'SAMADA'\n",
      " 'GUZZI' 'MONKEY BIKES' 'QINGQI' 'SSANGYONG' 'AYATS' 'INFINITI' 'CADILLAC'\n",
      " 'AUSA' 'VESPINO' 'VOXAN' 'SANYANG' 'CPI' 'BUELL' 'BENTLEY' 'LAMBRETTA'\n",
      " 'VAN HOOL' 'LEONART' 'CONOR' 'LAPTOR' 'MICRO-VETT' 'BELLIER' 'HUSQVARNA'\n",
      " 'FYM' 'DAIHATSU' 'TATA' 'ZONGSHEN' 'BICING' 'YIBEN' 'ALSTOM' 'AIXAM'\n",
      " 'BSA' 'DAIMLER' 'SETRA' 'LINHAI' 'MTR' 'GENERIC' 'MASH' 'V MOTO' 'HAMM'\n",
      " 'CLIPIC' 'KENROD' 'BYD' 'CITADIS' 'KSR' 'RAVO' 'GME (General Motors)'\n",
      " 'ISUZU' 'VECTRIX' 'BULTACO' 'GUOBEN' 'EMCO' 'LINDE' 'MASERATI' 'PEGASO'\n",
      " 'DAHON' 'MG' 'RIDE' 'OSSA' 'BTWIN' 'IPV' 'MAHINDRA' 'SCHMITZ'\n",
      " 'MATHIEU-YNO' 'IRIZAR' 'BTM' 'MOTORMANIA' 'PIONEER']\n",
      "['Blanc' 'Gris' 'Negre' 'Blau' 'granate' 'Altres' 'Verd' 'Desconegut'\n",
      " 'Marró' 'Vermell' 'Groc' 'Platejat' 'Negre/Groc' 'Rosa' 'Taronja' 'Beige'\n",
      " 'Daurat' 'Violeta']\n",
      "['A' 'B' 'AM' 'A2' 'C' 'A1' 'D' 'BTP' 'Llic\\x8ancia' 'C1' 'E C'\n",
      " 'Desconegut' 'B1' 'E D' 'E B' 'D1' 'E C1' 'Llicència']\n",
      "['Home' 'Dona']\n"
     ]
    }
   ],
   "source": [
    "print(df.tipus_vehicle.unique())\n",
    "print(df.marca.unique())\n",
    "print(df.color_vehicle.unique())\n",
    "print(df.tipus_carnet.unique())\n",
    "print(df.genere.unique())"
   ]
  },
  {
   "cell_type": "code",
   "execution_count": 7,
   "metadata": {},
   "outputs": [],
   "source": [
    "df.drop(df.loc[df.tipus_vehicle=='Otros veh¡c. a motor'].index, inplace=True, errors='ignore')\n",
    "df.drop(df.loc[df.tipus_vehicle=='Otros vehíc. a motor'].index, inplace=True, errors='ignore')\n",
    "df.drop(df.loc[df.tipus_vehicle=='Microbus <=17 plazas'].index, inplace=True, errors='ignore')\n",
    "df.drop(df.loc[df.tipus_vehicle=='Autobús'].index, inplace=True, errors='ignore')\n",
    "df.drop(df.loc[df.tipus_vehicle=='Autocar'].index, inplace=True, errors='ignore')\n",
    "df.drop(df.loc[df.tipus_vehicle=='Tractocamión'].index, inplace=True, errors='ignore')\n",
    "df.drop(df.loc[df.tipus_vehicle=='Autobús articulado'].index, inplace=True, errors='ignore')\n",
    "df.drop(df.loc[df.tipus_vehicle=='Microbus <=17 plazas'].index, inplace=True, errors='ignore')\n",
    "df.drop(df.loc[df.tipus_vehicle=='Maquinaria de obras'].index, inplace=True, errors='ignore')\n",
    "df.drop(df.loc[df.tipus_vehicle=='Tranvía o tren'].index, inplace=True, errors='ignore')\n",
    "df.drop(df.loc[df.color_vehicle=='Desconegut'].index, inplace=True, errors='ignore')\n",
    "df.drop(df.loc[df.tipus_carnet=='Desconegut'].index, inplace=True, errors='ignore')\n",
    "df.drop(df.loc[df.tipus_carnet=='Llicència'].index, inplace=True, errors='ignore')\n",
    "df.drop(df.loc[df.tipus_carnet=='Llic\\x8ancia'].index, inplace=True, errors='ignore')\n",
    "df.drop(df.loc[df.tipus_carnet=='BTP'].index, inplace=True, errors='ignore') # This license does not exist anymore"
   ]
  },
  {
   "cell_type": "markdown",
   "metadata": {},
   "source": [
    "## Graphical Univariate Analysis"
   ]
  },
  {
   "cell_type": "code",
   "execution_count": null,
   "metadata": {
    "scrolled": false
   },
   "outputs": [],
   "source": [
    "for col in df.columns:\n",
    "    sns.countplot(x=col, data=df)\n",
    "    plt.xticks(rotation=90)\n",
    "    plt.show()"
   ]
  },
  {
   "cell_type": "markdown",
   "metadata": {},
   "source": [
    "## Bivariate Analysis"
   ]
  },
  {
   "cell_type": "markdown",
   "metadata": {},
   "source": [
    "## Variable transformations"
   ]
  },
  {
   "cell_type": "markdown",
   "metadata": {},
   "source": [
    "## Missing value treatment"
   ]
  },
  {
   "cell_type": "markdown",
   "metadata": {},
   "source": [
    "## Outlier treatment"
   ]
  },
  {
   "cell_type": "markdown",
   "metadata": {},
   "source": [
    "## Correlation Analysis"
   ]
  },
  {
   "cell_type": "code",
   "execution_count": null,
   "metadata": {},
   "outputs": [],
   "source": []
  }
 ],
 "metadata": {
  "kernelspec": {
   "display_name": "Python 3",
   "language": "python",
   "name": "python3"
  },
  "language_info": {
   "codemirror_mode": {
    "name": "ipython",
    "version": 3
   },
   "file_extension": ".py",
   "mimetype": "text/x-python",
   "name": "python",
   "nbconvert_exporter": "python",
   "pygments_lexer": "ipython3",
   "version": "3.7.5"
  }
 },
 "nbformat": 4,
 "nbformat_minor": 2
}
